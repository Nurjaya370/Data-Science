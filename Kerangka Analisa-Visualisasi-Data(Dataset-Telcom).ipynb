{
 "cells": [
  {
   "cell_type": "markdown",
   "id": "7b7e80ff",
   "metadata": {
    "slideshow": {
     "slide_type": "slide"
    }
   },
   "source": [
    "# Prediksi Loyalitas Pelanggan\n",
    "- Dataset yang akan kita gunakan adalah:\n",
    "- Telco Customer Churn dari Kaggle: https://www.kaggle.com/blastchar/telco-customer-churn\n",
    "- Loyalitas pelanggan adalah salah satu masalah terbesar dalam industri telekomunikasi."
   ]
  },
  {
   "cell_type": "markdown",
   "id": "83c05493",
   "metadata": {
    "slideshow": {
     "slide_type": "slide"
    }
   },
   "source": [
    "## Dataset Telecom\n",
    "- Adalah kumpulan data pelanggan yang menunjukkan apakah pelanggan tersebut memutuskan hubungan dengan operator seluler tertentu atau tidak.\n",
    "- Dataset ini digunakan untuk mengembangkan model prediksi Loyalitas/churn (berhenti berlangganan) yang dapat membantu operator seluler dalam memprediksi pelanggan yang mungkin akan berhenti berlangganan."
   ]
  },
  {
   "cell_type": "markdown",
   "id": "10d2053e",
   "metadata": {},
   "source": [
    "# IMPORT MODUL"
   ]
  },
  {
   "cell_type": "code",
   "execution_count": 1,
   "id": "1cb63ca2",
   "metadata": {
    "slideshow": {
     "slide_type": "slide"
    }
   },
   "outputs": [],
   "source": [
    "# mengimport paket/modul yang dibutuhkan\n",
    "import pandas as pd\n",
    "import numpy as np\n",
    "import matplotlib.pyplot as plt\n",
    "import matplotlib.ticker as mtick\n",
    "import seaborn as sns\n",
    "\n",
    "sns.set(style = 'white')"
   ]
  },
  {
   "cell_type": "markdown",
   "id": "4fa83036",
   "metadata": {},
   "source": [
    "- pandas: digunakan untuk memanipulasi dan menganalisis data, terutama untuk membaca, menulis, dan mengubah format data.\n",
    "- numpy: digunakan untuk melakukan operasi numerik pada data, terutama array dan matriks.\n",
    "- matplotlib.pyplot: digunakan untuk membuat visualisasi grafik dan plot dari data, seperti scatter plot, line plot, dan histogram.\n",
    "- matplotlib.ticker: digunakan untuk memformat dan menentukan tampilan sumbu pada plot.\n",
    "- seaborn: digunakan untuk membuat visualisasi grafik yang lebih kompleks dan informatif, terutama untuk eksplorasi data dan analisis statistik.\n",
    "\n",
    "- sns.set(style = 'white'). Pengaturan ini digunakan untuk mengatur tampilan visualisasi agar lebih menarik dan mudah dibaca. Pada kode tersebut, tampilan visualisasi akan menggunakan warna latar putih (white) sebagai dasar"
   ]
  },
  {
   "cell_type": "markdown",
   "id": "961a4e21",
   "metadata": {},
   "source": [
    "# IMPORT DATASET\n",
    "- gunakan dataset (customer_churn.csv) yang akan di analisa dan visualisasikan"
   ]
  },
  {
   "cell_type": "code",
   "execution_count": null,
   "id": "e3854652",
   "metadata": {
    "slideshow": {
     "slide_type": "slide"
    }
   },
   "outputs": [],
   "source": []
  },
  {
   "cell_type": "markdown",
   "id": "454b9d1b",
   "metadata": {
    "slideshow": {
     "slide_type": "slide"
    }
   },
   "source": [
    "# Analisa Data\n",
    "- lakukan analisa untuk mendapatkan informasi terkait dengan dimensi dataset, feature dan tipe data didalam dataset"
   ]
  },
  {
   "cell_type": "code",
   "execution_count": null,
   "id": "cc3987e6",
   "metadata": {
    "slideshow": {
     "slide_type": "slide"
    }
   },
   "outputs": [],
   "source": []
  },
  {
   "cell_type": "code",
   "execution_count": null,
   "id": "023edc10",
   "metadata": {
    "slideshow": {
     "slide_type": "slide"
    }
   },
   "outputs": [],
   "source": []
  },
  {
   "cell_type": "markdown",
   "id": "8fe9f5b3",
   "metadata": {
    "slideshow": {
     "slide_type": "slide"
    }
   },
   "source": [
    "# Melihat Statistik Data\n",
    "1. lakukan secara menyeluruh pada sebuah dataframe untuk mendapatkan informasi summary/ringkasan statistik dari dataframe\n",
    "2. lakukan pada setiap kolom untuk mendapatkan informasi secara detail untuk setiap kolom/feature"
   ]
  },
  {
   "cell_type": "code",
   "execution_count": null,
   "id": "357c4119",
   "metadata": {
    "slideshow": {
     "slide_type": "slide"
    }
   },
   "outputs": [],
   "source": []
  },
  {
   "cell_type": "code",
   "execution_count": null,
   "id": "3c2fcdde",
   "metadata": {
    "slideshow": {
     "slide_type": "slide"
    }
   },
   "outputs": [],
   "source": []
  },
  {
   "cell_type": "code",
   "execution_count": null,
   "id": "27947caf",
   "metadata": {
    "slideshow": {
     "slide_type": "slide"
    }
   },
   "outputs": [],
   "source": []
  },
  {
   "cell_type": "markdown",
   "id": "d96ca8a5",
   "metadata": {
    "slideshow": {
     "slide_type": "slide"
    }
   },
   "source": [
    "# Menampilkan Data Unique\n",
    "- dilakukan untuk melihat/menampilkan kategori data yang terdapat pada sebuah kolom/feature yang berifat kategorikal/ordinal"
   ]
  },
  {
   "cell_type": "code",
   "execution_count": null,
   "id": "c137d742",
   "metadata": {
    "slideshow": {
     "slide_type": "slide"
    }
   },
   "outputs": [],
   "source": []
  },
  {
   "cell_type": "code",
   "execution_count": null,
   "id": "d818d6ff",
   "metadata": {
    "slideshow": {
     "slide_type": "slide"
    }
   },
   "outputs": [],
   "source": []
  },
  {
   "cell_type": "code",
   "execution_count": null,
   "id": "5bf39df4",
   "metadata": {
    "slideshow": {
     "slide_type": "slide"
    }
   },
   "outputs": [],
   "source": []
  },
  {
   "cell_type": "code",
   "execution_count": null,
   "id": "fa28fb1e",
   "metadata": {
    "slideshow": {
     "slide_type": "slide"
    }
   },
   "outputs": [],
   "source": []
  },
  {
   "cell_type": "markdown",
   "id": "83106148",
   "metadata": {},
   "source": [
    "# Uraikan secara detail terkait dengan informasi didalam Dataset\n",
    "- Dataset ini terdiri dari 7043 baris dan 21 kolom yang berisi informasi pelanggan, termasuk kolom target \"Churn\" yang menunjukkan apakah pelanggan tersebut berhenti berlangganan atau tidak.\n",
    "1. customerID : ID unik untuk setiap pelanggan\n",
    "2. gender : Jenis kelamin pelanggan (Male/Female)\n",
    "3. SeniorCitizen : Menunjukkan apakah pelanggan adalah warga lanjut usia atau tidak (1, 0)\n",
    "4. Partner : Menunjukkan apakah pelanggan memiliki pasangan atau tidak (Yes, No)\n",
    "5. Dependents : Menunjukkan apakah pelanggan memiliki tanggungan atau tidak (Yes, No)\n",
    "6. tenure : Menunjukkan berapa lama pelanggan telah menjadi pelanggan operator seluler (dalam bulan)\n",
    "7. PhoneService : Menunjukkan apakah pelanggan menggunakan layanan telepon atau tidak (Yes, No)\n",
    "8. MultipleLines : Menunjukkan apakah pelanggan memiliki beberapa garis atau tidak (Yes, No, No phone service)\n",
    "9. InternetService : Menunjukkan jenis layanan internet yang digunakan pelanggan (DSL, Fiber optic, No)\n",
    "10. OnlineSecurity : Menunjukkan apakah pelanggan memiliki keamanan online atau tidak (Yes, No, No internet service)\n",
    "11. OnlineBackup : Menunjukkan apakah pelanggan memiliki cadangan online atau tidak (Yes, No, No internet service)\n",
    "12. DeviceProtection : Menunjukkan apakah pelanggan memiliki perlindungan perangkat atau tidak (Yes, No, No internet service)\n",
    "13. TechSupport : Menunjukkan apakah pelanggan memiliki dukungan teknis atau tidak (Yes, No, No internet service)\n",
    "14. StreamingTV : Menunjukkan apakah pelanggan memiliki layanan TV streaming atau tidak (Yes, No, No internet service)\n",
    "15. StreamingMovies : Menunjukkan apakah pelanggan memiliki layanan streaming film atau tidak (Yes, No, No internet service)\n",
    "16. Contract : Menunjukkan jenis kontrak pelanggan (Month-to-month, One year, Two year)\n",
    "17. PaperlessBilling : Menunjukkan apakah pelanggan menggunakan pembayaran tanpa kertas atau tidak (Yes, No)\n",
    "18. PaymentMethod : Menunjukkan metode pembayaran yang digunakan pelanggan (Electronic check, Mailed check, Bank transfer (automatic), Credit card (automatic))\n",
    "19. MonthlyCharges : Menunjukkan biaya bulanan yang dikenakan pada pelanggan\n",
    "20. TotalCharges : Menunjukkan total biaya yang dikenakan pada pelanggan\n",
    "21. Churn : Menunjukkan apakah pelanggan berhenti berlangganan atau tidak (Yes, No)"
   ]
  },
  {
   "cell_type": "markdown",
   "id": "ecde6630",
   "metadata": {
    "slideshow": {
     "slide_type": "slide"
    }
   },
   "source": [
    "# Cek Missing Value, Outlier & Duplikat Data"
   ]
  },
  {
   "cell_type": "code",
   "execution_count": null,
   "id": "1145b726",
   "metadata": {
    "slideshow": {
     "slide_type": "slide"
    }
   },
   "outputs": [],
   "source": []
  },
  {
   "cell_type": "code",
   "execution_count": null,
   "id": "897d7caa",
   "metadata": {
    "slideshow": {
     "slide_type": "slide"
    }
   },
   "outputs": [],
   "source": []
  },
  {
   "cell_type": "markdown",
   "id": "a6cab918",
   "metadata": {
    "slideshow": {
     "slide_type": "slide"
    }
   },
   "source": [
    "### Berikan uraikan jelas terkait dengan data yang Missing Value, Outlier & Duplikat"
   ]
  },
  {
   "cell_type": "markdown",
   "id": "973e4c2e",
   "metadata": {},
   "source": [
    "# Korelasi Antar Setiap Feature Atau Kolom\n",
    "- Digunakan untuk melihat hubungan atau kolerasi sebuah feature/atribut/kolom terhadapat label/class/target output yang diharapkan"
   ]
  },
  {
   "cell_type": "code",
   "execution_count": null,
   "id": "7b253f28",
   "metadata": {},
   "outputs": [],
   "source": [
    "#jika dibutuhkan untuk konversi tipe data\n",
    "# konversi kolom \"TotalCharges\" dalam dataframe df menjadi tipe data numerik. \n",
    "# Penggunaan errors='coerce' berfungsi untuk mengonversi nilai yang tidak dapat diubah menjadi NaN (Not a Number)\n",
    "# kemudian diisi dengan nilai kosong. Dalam hal ini, jika nilai dalam kolom \"TotalCharges\" tidak dapat dikonversi menjadi numerik\n",
    "# maka nilainya akan diganti menjadi NaN.\n",
    "df.TotalCharges = pd.to_numeric(df.TotalCharges, errors='coerce')\n",
    "# menghitung jumlah nilai kosong (missing values) dalam setiap kolom dari dataframe df.\n",
    "# Fungsi isnull() akan menghasilkan dataframe yang memiliki nilai True pada setiap sel yang kosong dan False pada setiap sel yang berisi nilai.\n",
    "# Kemudian, dengan menggunakan fungsi sum() pada dataframe tersebut, akan dihitung jumlah nilai True dalam setiap kolom, \n",
    "# sehingga dapat diketahui jumlah nilai kosong dalam setiap kolom dari dataframe df.\n",
    "df.isnull().sum()"
   ]
  },
  {
   "cell_type": "markdown",
   "id": "a03a37ca",
   "metadata": {},
   "source": [
    "### Ubah bentuk data pada Class/Label Churn"
   ]
  },
  {
   "cell_type": "code",
   "execution_count": null,
   "id": "1475b510",
   "metadata": {
    "slideshow": {
     "slide_type": "slide"
    }
   },
   "outputs": [],
   "source": []
  },
  {
   "cell_type": "markdown",
   "id": "93469cd5",
   "metadata": {
    "slideshow": {
     "slide_type": "slide"
    }
   },
   "source": [
    "# Visualisasi Data\n",
    "- Visualisasi data adalah proses menggunakan elemen visual seperti diagram, grafik, atau peta untuk merepresentasikan data , Dengan kata lain, ini adalah proses mengubah data hasil analisis menjadi gambaran visual berupa bagan, peta, grafik, dan banyak lainnya.\n",
    "- modul/library yang populer digunakan untuk visualisasi data dalam python adalah Matplotlib dan seaborn"
   ]
  },
  {
   "cell_type": "markdown",
   "id": "229d666d",
   "metadata": {
    "slideshow": {
     "slide_type": "slide"
    }
   },
   "source": [
    "# Visualisasikan Korelasi antar Feature Dengan grafik batang dan Heatmap"
   ]
  },
  {
   "cell_type": "code",
   "execution_count": null,
   "id": "4fc4aff5",
   "metadata": {},
   "outputs": [],
   "source": []
  },
  {
   "cell_type": "code",
   "execution_count": null,
   "id": "a72214ee",
   "metadata": {},
   "outputs": [],
   "source": []
  },
  {
   "cell_type": "markdown",
   "id": "de3693ed",
   "metadata": {
    "slideshow": {
     "slide_type": "slide"
    }
   },
   "source": [
    "### Berikan Penjelasan terkait dengan Visualisasi dari Korelasi antar feature"
   ]
  },
  {
   "cell_type": "markdown",
   "id": "602cd4d5",
   "metadata": {
    "slideshow": {
     "slide_type": "slide"
    }
   },
   "source": [
    "# Eksplorasi Data\n",
    "- Untuk lebih memahami pola dalam data dan berpotensi membentuk beberapa hipotesis."
   ]
  },
  {
   "cell_type": "markdown",
   "id": "11988316",
   "metadata": {
    "slideshow": {
     "slide_type": "slide"
    }
   },
   "source": [
    "# Distribusi Data Class/Label Pelanggan Churn pada dataset"
   ]
  },
  {
   "cell_type": "code",
   "execution_count": null,
   "id": "2e812348",
   "metadata": {},
   "outputs": [],
   "source": []
  },
  {
   "cell_type": "markdown",
   "id": "3bac6aab",
   "metadata": {
    "slideshow": {
     "slide_type": "slide"
    }
   },
   "source": [
    "- Berikan penjelasan terkait dengan visualisasi data tersebut"
   ]
  },
  {
   "cell_type": "markdown",
   "id": "c167f6e3",
   "metadata": {
    "slideshow": {
     "slide_type": "slide"
    }
   },
   "source": [
    "A.) Korelasi Positif\n",
    "- 1. lakukan visualisasi untuk memahami distribusi feature/kolom/variabel korelasi Positif terhadap class/label, dengan visualisasi Univariate (1 peubah)\n",
    "- 2. lakukan Visualisasi Bivariate atau Multivariate (pilih salah satunya), untuyk memahami distribusi data yang memiliki korelasi fositif dengan yang memiliki korelasi negatif"
   ]
  },
  {
   "cell_type": "code",
   "execution_count": null,
   "id": "4fea6144",
   "metadata": {
    "slideshow": {
     "slide_type": "slide"
    }
   },
   "outputs": [],
   "source": []
  },
  {
   "cell_type": "markdown",
   "id": "2c68ea83",
   "metadata": {
    "slideshow": {
     "slide_type": "slide"
    }
   },
   "source": [
    "- Berikan penjelasan terkait dengan visualisasi data tersebut"
   ]
  },
  {
   "cell_type": "raw",
   "id": "de96c166",
   "metadata": {},
   "source": [
    "B.) Korelasi Negatif\n",
    " 1. lakukan visualisasi untuk memahami distribusi feature/kolom/variabel korelasi Positif terhadap class/label, dengan visualisasi Univariate (1 peubah)\n",
    "- 2. lakukan Visualisasi Bivariate atau Multivariate (pilih salah satunya), untuyk memahami distribusi data yang memiliki korelasi negatif dengan yang memiliki korelasi fositif"
   ]
  },
  {
   "cell_type": "code",
   "execution_count": null,
   "id": "1b5830e9",
   "metadata": {
    "slideshow": {
     "slide_type": "slide"
    }
   },
   "outputs": [],
   "source": []
  },
  {
   "cell_type": "markdown",
   "id": "812727c4",
   "metadata": {
    "slideshow": {
     "slide_type": "slide"
    }
   },
   "source": [
    "- Berikan penjelasan terkait dengan visualisasi data tersebut"
   ]
  },
  {
   "cell_type": "markdown",
   "id": "f270ebd1",
   "metadata": {
    "slideshow": {
     "slide_type": "slide"
    }
   },
   "source": [
    "C.) Distribusi feature/kolom terhadap class/label (churn)  \n",
    "- 1. dilakukan untuk memahami Distribusi feature/kolom yang memiliki korelasi positif terhadap class/label (churn)\n",
    "- 2. dilakukan untuk memahami Distribusi feature yang memiliki korelasi negatif terhadap class/label (churn)"
   ]
  },
  {
   "cell_type": "markdown",
   "id": "ad9b2165",
   "metadata": {
    "slideshow": {
     "slide_type": "slide"
    }
   },
   "source": [
    "### Distribusi feature/kolom yang memiliki korelasi positif terhadap class/label (churn)"
   ]
  },
  {
   "cell_type": "code",
   "execution_count": null,
   "id": "80e124c1",
   "metadata": {
    "slideshow": {
     "slide_type": "slide"
    }
   },
   "outputs": [],
   "source": []
  },
  {
   "cell_type": "markdown",
   "id": "ffc6aca0",
   "metadata": {
    "slideshow": {
     "slide_type": "slide"
    }
   },
   "source": [
    "- Berikan Penjelasan Terkait dengan visualisasi dari distribusi Data tersebut"
   ]
  },
  {
   "cell_type": "markdown",
   "id": "42705f88",
   "metadata": {
    "slideshow": {
     "slide_type": "slide"
    }
   },
   "source": [
    "### Distribusi feature/kolom yang memiliki korelasi negatif terhadap class/label (churn)"
   ]
  },
  {
   "cell_type": "code",
   "execution_count": null,
   "id": "64b72395",
   "metadata": {
    "slideshow": {
     "slide_type": "slide"
    }
   },
   "outputs": [],
   "source": []
  },
  {
   "cell_type": "markdown",
   "id": "712fcd2e",
   "metadata": {
    "slideshow": {
     "slide_type": "slide"
    }
   },
   "source": [
    "- Berikan Penjelasan Terkait dengan visualisasi dari distribusi Data tersebut"
   ]
  },
  {
   "cell_type": "markdown",
   "id": "22d7bce7",
   "metadata": {
    "slideshow": {
     "slide_type": "slide"
    }
   },
   "source": [
    "## Berikan Kesimpulan Dari Analisa dan Visualisasi Data yang telah dilakukan\n"
   ]
  },
  {
   "cell_type": "code",
   "execution_count": null,
   "id": "0dc7333c",
   "metadata": {},
   "outputs": [],
   "source": []
  }
 ],
 "metadata": {
  "celltoolbar": "Slideshow",
  "kernelspec": {
   "display_name": "Python 3 (ipykernel)",
   "language": "python",
   "name": "python3"
  },
  "language_info": {
   "codemirror_mode": {
    "name": "ipython",
    "version": 3
   },
   "file_extension": ".py",
   "mimetype": "text/x-python",
   "name": "python",
   "nbconvert_exporter": "python",
   "pygments_lexer": "ipython3",
   "version": "3.9.16"
  }
 },
 "nbformat": 4,
 "nbformat_minor": 5
}
