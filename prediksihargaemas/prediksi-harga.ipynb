{
 "cells": [
  {
   "cell_type": "markdown",
   "id": "2834e6da",
   "metadata": {},
   "source": [
    "# Prediksi Harga Saham\n",
    "- Dataset dapat di download melalui https://id.investing.com/commodities/gold-historical-data?__cf_chl_tk=c6oC005CKoLjyn0dqGM1oNTcW1SNJ8h20epEQyDzoV8-1687671240-0-gaNycGzNFqU"
   ]
  },
  {
   "cell_type": "markdown",
   "id": "78390f03",
   "metadata": {},
   "source": [
    "# 1. Import Modul dan library"
   ]
  },
  {
   "cell_type": "code",
   "execution_count": 1,
   "id": "95d7d879",
   "metadata": {},
   "outputs": [],
   "source": [
    "import pandas as pd\n",
    "import numpy as np\n",
    "from sklearn.linear_model import LinearRegression\n",
    "from sklearn.model_selection import train_test_split\n",
    "from sklearn.metrics import mean_squared_error\n",
    "import matplotlib.pyplot as plt\n",
    "import seaborn as sns\n",
    "import warnings\n",
    "warnings.filterwarnings(\"ignore\")"
   ]
  },
  {
   "cell_type": "markdown",
   "id": "90468268",
   "metadata": {},
   "source": [
    "# 2. Load Dataset\n",
    "- Selanjutnya, kita akan memuat dataset prediksi harga saham dengan menggunakan fungsi read_csv() dari library pandas."
   ]
  },
  {
   "cell_type": "code",
   "execution_count": 2,
   "id": "26271059",
   "metadata": {},
   "outputs": [
    {
     "data": {
      "text/html": [
       "<div>\n",
       "<style scoped>\n",
       "    .dataframe tbody tr th:only-of-type {\n",
       "        vertical-align: middle;\n",
       "    }\n",
       "\n",
       "    .dataframe tbody tr th {\n",
       "        vertical-align: top;\n",
       "    }\n",
       "\n",
       "    .dataframe thead th {\n",
       "        text-align: right;\n",
       "    }\n",
       "</style>\n",
       "<table border=\"1\" class=\"dataframe\">\n",
       "  <thead>\n",
       "    <tr style=\"text-align: right;\">\n",
       "      <th></th>\n",
       "      <th>Tanggal</th>\n",
       "      <th>Terakhir</th>\n",
       "      <th>Pembukaan</th>\n",
       "      <th>Tertinggi</th>\n",
       "      <th>Terendah</th>\n",
       "      <th>Vol.</th>\n",
       "      <th>Perubahan%</th>\n",
       "    </tr>\n",
       "  </thead>\n",
       "  <tbody>\n",
       "    <tr>\n",
       "      <th>0</th>\n",
       "      <td>30/12/2022</td>\n",
       "      <td>1.826,20</td>\n",
       "      <td>1.821,80</td>\n",
       "      <td>1.832,40</td>\n",
       "      <td>1.819,80</td>\n",
       "      <td>107,50K</td>\n",
       "      <td>0,01%</td>\n",
       "    </tr>\n",
       "    <tr>\n",
       "      <th>1</th>\n",
       "      <td>29/12/2022</td>\n",
       "      <td>1.826,00</td>\n",
       "      <td>1.812,30</td>\n",
       "      <td>1.827,30</td>\n",
       "      <td>1.811,20</td>\n",
       "      <td>105,99K</td>\n",
       "      <td>0,56%</td>\n",
       "    </tr>\n",
       "    <tr>\n",
       "      <th>2</th>\n",
       "      <td>28/12/2022</td>\n",
       "      <td>1.815,80</td>\n",
       "      <td>1.822,40</td>\n",
       "      <td>1.822,80</td>\n",
       "      <td>1.804,20</td>\n",
       "      <td>118,08K</td>\n",
       "      <td>-0,40%</td>\n",
       "    </tr>\n",
       "    <tr>\n",
       "      <th>3</th>\n",
       "      <td>27/12/2022</td>\n",
       "      <td>1.823,10</td>\n",
       "      <td>1.808,20</td>\n",
       "      <td>1.841,90</td>\n",
       "      <td>1.808,00</td>\n",
       "      <td>159,62K</td>\n",
       "      <td>0,74%</td>\n",
       "    </tr>\n",
       "    <tr>\n",
       "      <th>4</th>\n",
       "      <td>26/12/2022</td>\n",
       "      <td>1.809,70</td>\n",
       "      <td>1.805,80</td>\n",
       "      <td>1.811,95</td>\n",
       "      <td>1.805,55</td>\n",
       "      <td>NaN</td>\n",
       "      <td>0,30%</td>\n",
       "    </tr>\n",
       "    <tr>\n",
       "      <th>...</th>\n",
       "      <td>...</td>\n",
       "      <td>...</td>\n",
       "      <td>...</td>\n",
       "      <td>...</td>\n",
       "      <td>...</td>\n",
       "      <td>...</td>\n",
       "      <td>...</td>\n",
       "    </tr>\n",
       "    <tr>\n",
       "      <th>1030</th>\n",
       "      <td>08/01/2019</td>\n",
       "      <td>1.285,90</td>\n",
       "      <td>1.287,40</td>\n",
       "      <td>1.288,40</td>\n",
       "      <td>1.280,20</td>\n",
       "      <td>221,92K</td>\n",
       "      <td>-0,31%</td>\n",
       "    </tr>\n",
       "    <tr>\n",
       "      <th>1031</th>\n",
       "      <td>07/01/2019</td>\n",
       "      <td>1.289,90</td>\n",
       "      <td>1.290,20</td>\n",
       "      <td>1.297,00</td>\n",
       "      <td>1.287,30</td>\n",
       "      <td>204,68K</td>\n",
       "      <td>0,32%</td>\n",
       "    </tr>\n",
       "    <tr>\n",
       "      <th>1032</th>\n",
       "      <td>04/01/2019</td>\n",
       "      <td>1.285,80</td>\n",
       "      <td>1.298,90</td>\n",
       "      <td>1.300,00</td>\n",
       "      <td>1.278,10</td>\n",
       "      <td>316,06K</td>\n",
       "      <td>-0,70%</td>\n",
       "    </tr>\n",
       "    <tr>\n",
       "      <th>1033</th>\n",
       "      <td>03/01/2019</td>\n",
       "      <td>1.294,80</td>\n",
       "      <td>1.290,40</td>\n",
       "      <td>1.296,90</td>\n",
       "      <td>1.286,40</td>\n",
       "      <td>244,54K</td>\n",
       "      <td>0,83%</td>\n",
       "    </tr>\n",
       "    <tr>\n",
       "      <th>1034</th>\n",
       "      <td>02/01/2019</td>\n",
       "      <td>1.284,10</td>\n",
       "      <td>1.285,00</td>\n",
       "      <td>1.291,00</td>\n",
       "      <td>1.280,60</td>\n",
       "      <td>235,33K</td>\n",
       "      <td>0,22%</td>\n",
       "    </tr>\n",
       "  </tbody>\n",
       "</table>\n",
       "<p>1035 rows × 7 columns</p>\n",
       "</div>"
      ],
      "text/plain": [
       "         Tanggal  Terakhir Pembukaan Tertinggi  Terendah     Vol. Perubahan%\n",
       "0     30/12/2022  1.826,20  1.821,80  1.832,40  1.819,80  107,50K      0,01%\n",
       "1     29/12/2022  1.826,00  1.812,30  1.827,30  1.811,20  105,99K      0,56%\n",
       "2     28/12/2022  1.815,80  1.822,40  1.822,80  1.804,20  118,08K     -0,40%\n",
       "3     27/12/2022  1.823,10  1.808,20  1.841,90  1.808,00  159,62K      0,74%\n",
       "4     26/12/2022  1.809,70  1.805,80  1.811,95  1.805,55      NaN      0,30%\n",
       "...          ...       ...       ...       ...       ...      ...        ...\n",
       "1030  08/01/2019  1.285,90  1.287,40  1.288,40  1.280,20  221,92K     -0,31%\n",
       "1031  07/01/2019  1.289,90  1.290,20  1.297,00  1.287,30  204,68K      0,32%\n",
       "1032  04/01/2019  1.285,80  1.298,90  1.300,00  1.278,10  316,06K     -0,70%\n",
       "1033  03/01/2019  1.294,80  1.290,40  1.296,90  1.286,40  244,54K      0,83%\n",
       "1034  02/01/2019  1.284,10  1.285,00  1.291,00  1.280,60  235,33K      0,22%\n",
       "\n",
       "[1035 rows x 7 columns]"
      ]
     },
     "execution_count": 2,
     "metadata": {},
     "output_type": "execute_result"
    }
   ],
   "source": [
    "df = pd.read_csv('./dataset/Data_training.csv')\n",
    "df"
   ]
  },
  {
   "cell_type": "markdown",
   "id": "5d332a28",
   "metadata": {},
   "source": [
    "# 3. Exploratory Data Analysis (EDA):\n",
    "- Tampilkan informasi umum tentang dataset, seperti jumlah baris dan kolom, tipe data, dan statistik deskriptif.\n",
    "- Periksa adanya nilai yang missing value\n",
    "- periksa data yang outlier\n",
    "- periksa data duplikat.\n",
    "1. Feature Engineering:\n",
    "- Lakukan konversi tipe data jika diperlukan.\n",
    "- Lakukan pemrosesan tambahan pada atribut jika diperlukan, seperti scaling, encoding kategori, atau pembuatan atribut baru.\n",
    "2. Analisis Korelasi:\n",
    "- Identifikasi kolom yang berfungsi sebagai atribut dan label.\n",
    "- Hitung matriks korelasi antara atribut-atribut untuk melihat hubungan linear antara mereka.\n",
    "- Tampilkan matriks korelasi dalam bentuk heatmap untuk memvisualisasikan korelasi.\n",
    "- Periksa hubungan antara atribut-atribut menggunakan matriks korelasi atau scatter plot."
   ]
  },
  {
   "cell_type": "code",
   "execution_count": 3,
   "id": "4dcfbd78",
   "metadata": {},
   "outputs": [
    {
     "name": "stdout",
     "output_type": "stream",
     "text": [
      "<class 'pandas.core.frame.DataFrame'>\n",
      "RangeIndex: 1035 entries, 0 to 1034\n",
      "Data columns (total 7 columns):\n",
      " #   Column      Non-Null Count  Dtype \n",
      "---  ------      --------------  ----- \n",
      " 0   Tanggal     1035 non-null   object\n",
      " 1   Terakhir    1035 non-null   object\n",
      " 2   Pembukaan   1035 non-null   object\n",
      " 3   Tertinggi   1035 non-null   object\n",
      " 4   Terendah    1035 non-null   object\n",
      " 5   Vol.        1033 non-null   object\n",
      " 6   Perubahan%  1035 non-null   object\n",
      "dtypes: object(7)\n",
      "memory usage: 56.7+ KB\n"
     ]
    }
   ],
   "source": [
    "df.info()"
   ]
  },
  {
   "cell_type": "markdown",
   "id": "7f5450ff",
   "metadata": {},
   "source": [
    "## beri Ket & note tentang dimensi data dan perhatikan tipe data untuk semua kolom = object (perlu dilakukan casting/konversi tipe data)"
   ]
  },
  {
   "cell_type": "code",
   "execution_count": 4,
   "id": "a3bfaee2",
   "metadata": {},
   "outputs": [
    {
     "data": {
      "text/html": [
       "<div>\n",
       "<style scoped>\n",
       "    .dataframe tbody tr th:only-of-type {\n",
       "        vertical-align: middle;\n",
       "    }\n",
       "\n",
       "    .dataframe tbody tr th {\n",
       "        vertical-align: top;\n",
       "    }\n",
       "\n",
       "    .dataframe thead th {\n",
       "        text-align: right;\n",
       "    }\n",
       "</style>\n",
       "<table border=\"1\" class=\"dataframe\">\n",
       "  <thead>\n",
       "    <tr style=\"text-align: right;\">\n",
       "      <th></th>\n",
       "      <th>Tanggal</th>\n",
       "      <th>Terakhir</th>\n",
       "      <th>Pembukaan</th>\n",
       "      <th>Tertinggi</th>\n",
       "      <th>Terendah</th>\n",
       "      <th>Vol.</th>\n",
       "      <th>Perubahan%</th>\n",
       "    </tr>\n",
       "  </thead>\n",
       "  <tbody>\n",
       "    <tr>\n",
       "      <th>count</th>\n",
       "      <td>1035</td>\n",
       "      <td>1035</td>\n",
       "      <td>1035</td>\n",
       "      <td>1035</td>\n",
       "      <td>1035</td>\n",
       "      <td>1033</td>\n",
       "      <td>1035</td>\n",
       "    </tr>\n",
       "    <tr>\n",
       "      <th>unique</th>\n",
       "      <td>1035</td>\n",
       "      <td>925</td>\n",
       "      <td>909</td>\n",
       "      <td>939</td>\n",
       "      <td>930</td>\n",
       "      <td>1002</td>\n",
       "      <td>354</td>\n",
       "    </tr>\n",
       "    <tr>\n",
       "      <th>top</th>\n",
       "      <td>30/12/2022</td>\n",
       "      <td>1.814,10</td>\n",
       "      <td>1.817,00</td>\n",
       "      <td>1.812,00</td>\n",
       "      <td>1.808,40</td>\n",
       "      <td>332,61K</td>\n",
       "      <td>0,00%</td>\n",
       "    </tr>\n",
       "    <tr>\n",
       "      <th>freq</th>\n",
       "      <td>1</td>\n",
       "      <td>4</td>\n",
       "      <td>4</td>\n",
       "      <td>4</td>\n",
       "      <td>3</td>\n",
       "      <td>3</td>\n",
       "      <td>14</td>\n",
       "    </tr>\n",
       "  </tbody>\n",
       "</table>\n",
       "</div>"
      ],
      "text/plain": [
       "           Tanggal  Terakhir Pembukaan Tertinggi  Terendah     Vol. Perubahan%\n",
       "count         1035      1035      1035      1035      1035     1033       1035\n",
       "unique        1035       925       909       939       930     1002        354\n",
       "top     30/12/2022  1.814,10  1.817,00  1.812,00  1.808,40  332,61K      0,00%\n",
       "freq             1         4         4         4         3        3         14"
      ]
     },
     "execution_count": 4,
     "metadata": {},
     "output_type": "execute_result"
    }
   ],
   "source": [
    "# menampilkan informasi statistik data\n",
    "df.describe()"
   ]
  },
  {
   "cell_type": "markdown",
   "id": "70b7de2e",
   "metadata": {},
   "source": [
    "### terdapat kemungkinan missing value pada kolom Vol., perhatikan pada (jumlah data) count = 1027"
   ]
  },
  {
   "cell_type": "code",
   "execution_count": 5,
   "id": "039be856",
   "metadata": {},
   "outputs": [
    {
     "data": {
      "text/plain": [
       "30/12/2022    1\n",
       "02/04/2020    1\n",
       "15/05/2020    1\n",
       "14/05/2020    1\n",
       "13/05/2020    1\n",
       "             ..\n",
       "26/08/2021    1\n",
       "25/08/2021    1\n",
       "24/08/2021    1\n",
       "23/08/2021    1\n",
       "02/01/2019    1\n",
       "Name: Tanggal, Length: 1035, dtype: int64"
      ]
     },
     "execution_count": 5,
     "metadata": {},
     "output_type": "execute_result"
    }
   ],
   "source": [
    "# melihat frekuensi kemunculan data\n",
    "df['Tanggal'].value_counts()"
   ]
  },
  {
   "cell_type": "markdown",
   "id": "f8072a42",
   "metadata": {},
   "source": [
    "### data dikumpulkan dari tanggal 2 januari 2019- 09 maret 2023"
   ]
  },
  {
   "cell_type": "code",
   "execution_count": 6,
   "id": "0e456c13",
   "metadata": {},
   "outputs": [
    {
     "data": {
      "text/plain": [
       "1002"
      ]
     },
     "execution_count": 6,
     "metadata": {},
     "output_type": "execute_result"
    }
   ],
   "source": [
    "df['Vol.'].nunique()"
   ]
  },
  {
   "cell_type": "code",
   "execution_count": 7,
   "id": "4694a533",
   "metadata": {},
   "outputs": [
    {
     "data": {
      "text/plain": [
       "Tanggal       0\n",
       "Terakhir      0\n",
       "Pembukaan     0\n",
       "Tertinggi     0\n",
       "Terendah      0\n",
       "Vol.          2\n",
       "Perubahan%    0\n",
       "dtype: int64"
      ]
     },
     "execution_count": 7,
     "metadata": {},
     "output_type": "execute_result"
    }
   ],
   "source": [
    "# cek missing value\n",
    "df.isna().sum()"
   ]
  },
  {
   "cell_type": "code",
   "execution_count": 8,
   "id": "516b750e",
   "metadata": {},
   "outputs": [],
   "source": [
    "# mengahapus missing value (karena hanya 1 data saja)\n",
    "df=df.dropna()"
   ]
  },
  {
   "cell_type": "code",
   "execution_count": 9,
   "id": "5a83b043",
   "metadata": {},
   "outputs": [
    {
     "data": {
      "text/plain": [
       "0"
      ]
     },
     "execution_count": 9,
     "metadata": {},
     "output_type": "execute_result"
    }
   ],
   "source": [
    "#cek data duplikat\n",
    "df.duplicated().sum()"
   ]
  },
  {
   "cell_type": "code",
   "execution_count": 10,
   "id": "43e7046f",
   "metadata": {},
   "outputs": [
    {
     "data": {
      "text/plain": [
       "Tanggal       0\n",
       "Terakhir      0\n",
       "Pembukaan     0\n",
       "Tertinggi     0\n",
       "Terendah      0\n",
       "Vol.          0\n",
       "Perubahan%    0\n",
       "dtype: int64"
      ]
     },
     "execution_count": 10,
     "metadata": {},
     "output_type": "execute_result"
    }
   ],
   "source": [
    "df.isna().sum()"
   ]
  },
  {
   "cell_type": "code",
   "execution_count": 11,
   "id": "e7f02aed",
   "metadata": {},
   "outputs": [
    {
     "data": {
      "text/plain": [
       "0"
      ]
     },
     "execution_count": 11,
     "metadata": {},
     "output_type": "execute_result"
    }
   ],
   "source": [
    "df['Vol.'].isnull().sum()"
   ]
  },
  {
   "cell_type": "markdown",
   "id": "09f6d119",
   "metadata": {},
   "source": [
    "## Casting/Konversi tipe data"
   ]
  },
  {
   "cell_type": "code",
   "execution_count": 12,
   "id": "92f7f425",
   "metadata": {},
   "outputs": [
    {
     "data": {
      "text/html": [
       "<div>\n",
       "<style scoped>\n",
       "    .dataframe tbody tr th:only-of-type {\n",
       "        vertical-align: middle;\n",
       "    }\n",
       "\n",
       "    .dataframe tbody tr th {\n",
       "        vertical-align: top;\n",
       "    }\n",
       "\n",
       "    .dataframe thead th {\n",
       "        text-align: right;\n",
       "    }\n",
       "</style>\n",
       "<table border=\"1\" class=\"dataframe\">\n",
       "  <thead>\n",
       "    <tr style=\"text-align: right;\">\n",
       "      <th></th>\n",
       "      <th>Tanggal</th>\n",
       "      <th>Terakhir</th>\n",
       "      <th>Pembukaan</th>\n",
       "      <th>Tertinggi</th>\n",
       "      <th>Terendah</th>\n",
       "      <th>Vol.</th>\n",
       "      <th>Perubahan%</th>\n",
       "    </tr>\n",
       "  </thead>\n",
       "  <tbody>\n",
       "    <tr>\n",
       "      <th>0</th>\n",
       "      <td>2022-12-30</td>\n",
       "      <td>1.8262</td>\n",
       "      <td>1.8218</td>\n",
       "      <td>1.8324</td>\n",
       "      <td>1.8198</td>\n",
       "      <td>10750000.0</td>\n",
       "      <td>0.01</td>\n",
       "    </tr>\n",
       "    <tr>\n",
       "      <th>1</th>\n",
       "      <td>2022-12-29</td>\n",
       "      <td>1.8260</td>\n",
       "      <td>1.8123</td>\n",
       "      <td>1.8273</td>\n",
       "      <td>1.8112</td>\n",
       "      <td>10599000.0</td>\n",
       "      <td>0.56</td>\n",
       "    </tr>\n",
       "    <tr>\n",
       "      <th>2</th>\n",
       "      <td>2022-12-28</td>\n",
       "      <td>1.8158</td>\n",
       "      <td>1.8224</td>\n",
       "      <td>1.8228</td>\n",
       "      <td>1.8042</td>\n",
       "      <td>11808000.0</td>\n",
       "      <td>-0.40</td>\n",
       "    </tr>\n",
       "    <tr>\n",
       "      <th>3</th>\n",
       "      <td>2022-12-27</td>\n",
       "      <td>1.8231</td>\n",
       "      <td>1.8082</td>\n",
       "      <td>1.8419</td>\n",
       "      <td>1.8080</td>\n",
       "      <td>15962000.0</td>\n",
       "      <td>0.74</td>\n",
       "    </tr>\n",
       "    <tr>\n",
       "      <th>5</th>\n",
       "      <td>2022-12-23</td>\n",
       "      <td>1.8042</td>\n",
       "      <td>1.8010</td>\n",
       "      <td>1.8122</td>\n",
       "      <td>1.7989</td>\n",
       "      <td>10546000.0</td>\n",
       "      <td>0.50</td>\n",
       "    </tr>\n",
       "    <tr>\n",
       "      <th>...</th>\n",
       "      <td>...</td>\n",
       "      <td>...</td>\n",
       "      <td>...</td>\n",
       "      <td>...</td>\n",
       "      <td>...</td>\n",
       "      <td>...</td>\n",
       "      <td>...</td>\n",
       "    </tr>\n",
       "    <tr>\n",
       "      <th>1030</th>\n",
       "      <td>2019-08-01</td>\n",
       "      <td>1.2859</td>\n",
       "      <td>1.2874</td>\n",
       "      <td>1.2884</td>\n",
       "      <td>1.2802</td>\n",
       "      <td>22192000.0</td>\n",
       "      <td>-0.31</td>\n",
       "    </tr>\n",
       "    <tr>\n",
       "      <th>1031</th>\n",
       "      <td>2019-07-01</td>\n",
       "      <td>1.2899</td>\n",
       "      <td>1.2902</td>\n",
       "      <td>1.2970</td>\n",
       "      <td>1.2873</td>\n",
       "      <td>20468000.0</td>\n",
       "      <td>0.32</td>\n",
       "    </tr>\n",
       "    <tr>\n",
       "      <th>1032</th>\n",
       "      <td>2019-04-01</td>\n",
       "      <td>1.2858</td>\n",
       "      <td>1.2989</td>\n",
       "      <td>1.3000</td>\n",
       "      <td>1.2781</td>\n",
       "      <td>31606000.0</td>\n",
       "      <td>-0.70</td>\n",
       "    </tr>\n",
       "    <tr>\n",
       "      <th>1033</th>\n",
       "      <td>2019-03-01</td>\n",
       "      <td>1.2948</td>\n",
       "      <td>1.2904</td>\n",
       "      <td>1.2969</td>\n",
       "      <td>1.2864</td>\n",
       "      <td>24454000.0</td>\n",
       "      <td>0.83</td>\n",
       "    </tr>\n",
       "    <tr>\n",
       "      <th>1034</th>\n",
       "      <td>2019-02-01</td>\n",
       "      <td>1.2841</td>\n",
       "      <td>1.2850</td>\n",
       "      <td>1.2910</td>\n",
       "      <td>1.2806</td>\n",
       "      <td>23533000.0</td>\n",
       "      <td>0.22</td>\n",
       "    </tr>\n",
       "  </tbody>\n",
       "</table>\n",
       "<p>1033 rows × 7 columns</p>\n",
       "</div>"
      ],
      "text/plain": [
       "        Tanggal  Terakhir  Pembukaan  Tertinggi  Terendah        Vol.  \\\n",
       "0    2022-12-30    1.8262     1.8218     1.8324    1.8198  10750000.0   \n",
       "1    2022-12-29    1.8260     1.8123     1.8273    1.8112  10599000.0   \n",
       "2    2022-12-28    1.8158     1.8224     1.8228    1.8042  11808000.0   \n",
       "3    2022-12-27    1.8231     1.8082     1.8419    1.8080  15962000.0   \n",
       "5    2022-12-23    1.8042     1.8010     1.8122    1.7989  10546000.0   \n",
       "...         ...       ...        ...        ...       ...         ...   \n",
       "1030 2019-08-01    1.2859     1.2874     1.2884    1.2802  22192000.0   \n",
       "1031 2019-07-01    1.2899     1.2902     1.2970    1.2873  20468000.0   \n",
       "1032 2019-04-01    1.2858     1.2989     1.3000    1.2781  31606000.0   \n",
       "1033 2019-03-01    1.2948     1.2904     1.2969    1.2864  24454000.0   \n",
       "1034 2019-02-01    1.2841     1.2850     1.2910    1.2806  23533000.0   \n",
       "\n",
       "      Perubahan%  \n",
       "0           0.01  \n",
       "1           0.56  \n",
       "2          -0.40  \n",
       "3           0.74  \n",
       "5           0.50  \n",
       "...          ...  \n",
       "1030       -0.31  \n",
       "1031        0.32  \n",
       "1032       -0.70  \n",
       "1033        0.83  \n",
       "1034        0.22  \n",
       "\n",
       "[1033 rows x 7 columns]"
      ]
     },
     "execution_count": 12,
     "metadata": {},
     "output_type": "execute_result"
    }
   ],
   "source": [
    "df['Tanggal'] = pd.to_datetime(df['Tanggal'])\n",
    "columns_harga = ['Terakhir', 'Pembukaan', 'Tertinggi', 'Terendah']\n",
    "df[columns_harga] = df[columns_harga].replace(',', '', regex=True).astype(float)\n",
    "df['Vol.'] = df['Vol.'].str.replace(r'\\.\\d+', '', regex=True).str.replace(',', '').str.replace('K', '000').astype(float)\n",
    "df['Perubahan%'] = df['Perubahan%'].str.replace('%', '', regex=True).str.replace(',', '.').astype(float)\n",
    "df"
   ]
  },
  {
   "cell_type": "markdown",
   "id": "47beda12",
   "metadata": {},
   "source": [
    "## Casting/Konversi tipe data"
   ]
  },
  {
   "cell_type": "code",
   "execution_count": 13,
   "id": "24e4224a",
   "metadata": {},
   "outputs": [
    {
     "data": {
      "text/plain": [
       "Tanggal       datetime64[ns]\n",
       "Terakhir             float64\n",
       "Pembukaan            float64\n",
       "Tertinggi            float64\n",
       "Terendah             float64\n",
       "Vol.                 float64\n",
       "Perubahan%           float64\n",
       "dtype: object"
      ]
     },
     "execution_count": 13,
     "metadata": {},
     "output_type": "execute_result"
    }
   ],
   "source": [
    "df.dtypes"
   ]
  },
  {
   "cell_type": "code",
   "execution_count": 14,
   "id": "ee733d03",
   "metadata": {},
   "outputs": [
    {
     "data": {
      "text/html": [
       "<div>\n",
       "<style scoped>\n",
       "    .dataframe tbody tr th:only-of-type {\n",
       "        vertical-align: middle;\n",
       "    }\n",
       "\n",
       "    .dataframe tbody tr th {\n",
       "        vertical-align: top;\n",
       "    }\n",
       "\n",
       "    .dataframe thead th {\n",
       "        text-align: right;\n",
       "    }\n",
       "</style>\n",
       "<table border=\"1\" class=\"dataframe\">\n",
       "  <thead>\n",
       "    <tr style=\"text-align: right;\">\n",
       "      <th></th>\n",
       "      <th>Terakhir</th>\n",
       "      <th>Pembukaan</th>\n",
       "      <th>Tertinggi</th>\n",
       "      <th>Terendah</th>\n",
       "      <th>Vol.</th>\n",
       "      <th>Perubahan%</th>\n",
       "    </tr>\n",
       "  </thead>\n",
       "  <tbody>\n",
       "    <tr>\n",
       "      <th>count</th>\n",
       "      <td>1033.00</td>\n",
       "      <td>1033.00</td>\n",
       "      <td>1033.00</td>\n",
       "      <td>1033.00</td>\n",
       "      <td>1033.00</td>\n",
       "      <td>1033.00</td>\n",
       "    </tr>\n",
       "    <tr>\n",
       "      <th>mean</th>\n",
       "      <td>1.70</td>\n",
       "      <td>1.70</td>\n",
       "      <td>1.71</td>\n",
       "      <td>1.68</td>\n",
       "      <td>23686841.24</td>\n",
       "      <td>0.04</td>\n",
       "    </tr>\n",
       "    <tr>\n",
       "      <th>std</th>\n",
       "      <td>0.20</td>\n",
       "      <td>0.20</td>\n",
       "      <td>0.20</td>\n",
       "      <td>0.20</td>\n",
       "      <td>10683044.47</td>\n",
       "      <td>1.02</td>\n",
       "    </tr>\n",
       "    <tr>\n",
       "      <th>min</th>\n",
       "      <td>1.27</td>\n",
       "      <td>1.27</td>\n",
       "      <td>1.28</td>\n",
       "      <td>1.27</td>\n",
       "      <td>0.00</td>\n",
       "      <td>-4.99</td>\n",
       "    </tr>\n",
       "    <tr>\n",
       "      <th>25%</th>\n",
       "      <td>1.54</td>\n",
       "      <td>1.54</td>\n",
       "      <td>1.56</td>\n",
       "      <td>1.53</td>\n",
       "      <td>16707000.00</td>\n",
       "      <td>-0.40</td>\n",
       "    </tr>\n",
       "    <tr>\n",
       "      <th>50%</th>\n",
       "      <td>1.76</td>\n",
       "      <td>1.76</td>\n",
       "      <td>1.78</td>\n",
       "      <td>1.75</td>\n",
       "      <td>21424000.00</td>\n",
       "      <td>0.05</td>\n",
       "    </tr>\n",
       "    <tr>\n",
       "      <th>75%</th>\n",
       "      <td>1.83</td>\n",
       "      <td>1.83</td>\n",
       "      <td>1.85</td>\n",
       "      <td>1.82</td>\n",
       "      <td>28207000.00</td>\n",
       "      <td>0.55</td>\n",
       "    </tr>\n",
       "    <tr>\n",
       "      <th>max</th>\n",
       "      <td>2.07</td>\n",
       "      <td>2.08</td>\n",
       "      <td>2.09</td>\n",
       "      <td>2.05</td>\n",
       "      <td>81341000.00</td>\n",
       "      <td>5.95</td>\n",
       "    </tr>\n",
       "  </tbody>\n",
       "</table>\n",
       "</div>"
      ],
      "text/plain": [
       "       Terakhir  Pembukaan  Tertinggi  Terendah         Vol.  Perubahan%\n",
       "count   1033.00    1033.00    1033.00   1033.00      1033.00     1033.00\n",
       "mean       1.70       1.70       1.71      1.68  23686841.24        0.04\n",
       "std        0.20       0.20       0.20      0.20  10683044.47        1.02\n",
       "min        1.27       1.27       1.28      1.27         0.00       -4.99\n",
       "25%        1.54       1.54       1.56      1.53  16707000.00       -0.40\n",
       "50%        1.76       1.76       1.78      1.75  21424000.00        0.05\n",
       "75%        1.83       1.83       1.85      1.82  28207000.00        0.55\n",
       "max        2.07       2.08       2.09      2.05  81341000.00        5.95"
      ]
     },
     "execution_count": 14,
     "metadata": {},
     "output_type": "execute_result"
    }
   ],
   "source": [
    "df.describe().round(2)"
   ]
  },
  {
   "cell_type": "markdown",
   "id": "068c6fdc",
   "metadata": {},
   "source": [
    "## Beri Ket/Note terkait data statistik untuk semua atribut"
   ]
  },
  {
   "cell_type": "markdown",
   "id": "52edce4c",
   "metadata": {},
   "source": [
    "# 4. Visualisasi Data:\n",
    "\n",
    "- Buat visualisasi grafik untuk masing-masing atribut.\n",
    "- Gunakan grafik seperti line plot, scatter plot, atau box plot untuk memahami tren, pola, dan variabilitas data.\n",
    "- Analisis dan Interpretasi:\n",
    "\n",
    "1. Lakukan analisis statistik terhadap atribut-atribut untuk mendapatkan wawasan lebih dalam.\n",
    "2. Identifikasi atribut-atribut yang memiliki pengaruh signifikan terhadap harga saham.\n",
    "3. Perhatikan pola dan tren dalam data yang dapat membantu dalam memahami faktor-faktor yang mempengaruhi harga saham.\n",
    "4. Pastikan untuk menyelidiki masing-masing atribut secara terpisah dan melihat hubungan antara atribut-atribut tersebut."
   ]
  },
  {
   "cell_type": "markdown",
   "id": "b0534997",
   "metadata": {},
   "source": [
    "# Korelasi setiap atribut terhadap harga penutupan "
   ]
  },
  {
   "cell_type": "code",
   "execution_count": 15,
   "id": "bac00469",
   "metadata": {},
   "outputs": [
    {
     "name": "stdout",
     "output_type": "stream",
     "text": [
      "Terakhir      1.000000\n",
      "Pembukaan     0.996379\n",
      "Tertinggi     0.998170\n",
      "Terendah      0.998599\n",
      "Vol.         -0.304522\n",
      "Perubahan%    0.018287\n",
      "Name: Terakhir, dtype: float64\n"
     ]
    },
    {
     "data": {
      "image/png": "[encoded data removed]",
      "text/plain": [
       "<Figure size 1000x600 with 1 Axes>"
      ]
     },
     "metadata": {},
     "output_type": "display_data"
    }
   ],
   "source": [
    "# Menghitung korelasi antara kolom Price dengan kolom lain\n",
    "correlation = df.corr()['Terakhir']\n",
    "print(correlation)\n",
    "\n",
    "# Plot korelasi\n",
    "plt.figure(figsize=(10, 6))\n",
    "correlation.drop('Terakhir').plot(kind='bar')\n",
    "plt.xlabel('Variable')\n",
    "plt.ylabel('Correlation')\n",
    "plt.title('Correlation with Price')\n",
    "plt.savefig('./grafik/korelasi.png')\n",
    "plt.grid()\n",
    "plt.show()\n"
   ]
  },
  {
   "cell_type": "markdown",
   "id": "1edcebd0",
   "metadata": {},
   "source": [
    "# 4-1. Distribusi Data Time series Harga Penutupan"
   ]
  },
  {
   "cell_type": "code",
   "execution_count": 16,
   "id": "c17b969a",
   "metadata": {},
   "outputs": [
    {
     "data": {
      "text/html": [
       "<div>\n",
       "<style scoped>\n",
       "    .dataframe tbody tr th:only-of-type {\n",
       "        vertical-align: middle;\n",
       "    }\n",
       "\n",
       "    .dataframe tbody tr th {\n",
       "        vertical-align: top;\n",
       "    }\n",
       "\n",
       "    .dataframe thead th {\n",
       "        text-align: right;\n",
       "    }\n",
       "</style>\n",
       "<table border=\"1\" class=\"dataframe\">\n",
       "  <thead>\n",
       "    <tr style=\"text-align: right;\">\n",
       "      <th></th>\n",
       "      <th>Tanggal</th>\n",
       "      <th>Terakhir</th>\n",
       "      <th>Pembukaan</th>\n",
       "      <th>Tertinggi</th>\n",
       "      <th>Terendah</th>\n",
       "      <th>Vol.</th>\n",
       "      <th>Perubahan%</th>\n",
       "      <th>day</th>\n",
       "      <th>week</th>\n",
       "      <th>month</th>\n",
       "      <th>year</th>\n",
       "    </tr>\n",
       "  </thead>\n",
       "  <tbody>\n",
       "    <tr>\n",
       "      <th>0</th>\n",
       "      <td>2022-12-30</td>\n",
       "      <td>1.8262</td>\n",
       "      <td>1.8218</td>\n",
       "      <td>1.8324</td>\n",
       "      <td>1.8198</td>\n",
       "      <td>10750000.0</td>\n",
       "      <td>0.01</td>\n",
       "      <td>30</td>\n",
       "      <td>52</td>\n",
       "      <td>12</td>\n",
       "      <td>2022</td>\n",
       "    </tr>\n",
       "    <tr>\n",
       "      <th>1</th>\n",
       "      <td>2022-12-29</td>\n",
       "      <td>1.8260</td>\n",
       "      <td>1.8123</td>\n",
       "      <td>1.8273</td>\n",
       "      <td>1.8112</td>\n",
       "      <td>10599000.0</td>\n",
       "      <td>0.56</td>\n",
       "      <td>29</td>\n",
       "      <td>52</td>\n",
       "      <td>12</td>\n",
       "      <td>2022</td>\n",
       "    </tr>\n",
       "    <tr>\n",
       "      <th>2</th>\n",
       "      <td>2022-12-28</td>\n",
       "      <td>1.8158</td>\n",
       "      <td>1.8224</td>\n",
       "      <td>1.8228</td>\n",
       "      <td>1.8042</td>\n",
       "      <td>11808000.0</td>\n",
       "      <td>-0.40</td>\n",
       "      <td>28</td>\n",
       "      <td>52</td>\n",
       "      <td>12</td>\n",
       "      <td>2022</td>\n",
       "    </tr>\n",
       "    <tr>\n",
       "      <th>3</th>\n",
       "      <td>2022-12-27</td>\n",
       "      <td>1.8231</td>\n",
       "      <td>1.8082</td>\n",
       "      <td>1.8419</td>\n",
       "      <td>1.8080</td>\n",
       "      <td>15962000.0</td>\n",
       "      <td>0.74</td>\n",
       "      <td>27</td>\n",
       "      <td>52</td>\n",
       "      <td>12</td>\n",
       "      <td>2022</td>\n",
       "    </tr>\n",
       "    <tr>\n",
       "      <th>5</th>\n",
       "      <td>2022-12-23</td>\n",
       "      <td>1.8042</td>\n",
       "      <td>1.8010</td>\n",
       "      <td>1.8122</td>\n",
       "      <td>1.7989</td>\n",
       "      <td>10546000.0</td>\n",
       "      <td>0.50</td>\n",
       "      <td>23</td>\n",
       "      <td>51</td>\n",
       "      <td>12</td>\n",
       "      <td>2022</td>\n",
       "    </tr>\n",
       "    <tr>\n",
       "      <th>...</th>\n",
       "      <td>...</td>\n",
       "      <td>...</td>\n",
       "      <td>...</td>\n",
       "      <td>...</td>\n",
       "      <td>...</td>\n",
       "      <td>...</td>\n",
       "      <td>...</td>\n",
       "      <td>...</td>\n",
       "      <td>...</td>\n",
       "      <td>...</td>\n",
       "      <td>...</td>\n",
       "    </tr>\n",
       "    <tr>\n",
       "      <th>1030</th>\n",
       "      <td>2019-08-01</td>\n",
       "      <td>1.2859</td>\n",
       "      <td>1.2874</td>\n",
       "      <td>1.2884</td>\n",
       "      <td>1.2802</td>\n",
       "      <td>22192000.0</td>\n",
       "      <td>-0.31</td>\n",
       "      <td>1</td>\n",
       "      <td>31</td>\n",
       "      <td>8</td>\n",
       "      <td>2019</td>\n",
       "    </tr>\n",
       "    <tr>\n",
       "      <th>1031</th>\n",
       "      <td>2019-07-01</td>\n",
       "      <td>1.2899</td>\n",
       "      <td>1.2902</td>\n",
       "      <td>1.2970</td>\n",
       "      <td>1.2873</td>\n",
       "      <td>20468000.0</td>\n",
       "      <td>0.32</td>\n",
       "      <td>1</td>\n",
       "      <td>27</td>\n",
       "      <td>7</td>\n",
       "      <td>2019</td>\n",
       "    </tr>\n",
       "    <tr>\n",
       "      <th>1032</th>\n",
       "      <td>2019-04-01</td>\n",
       "      <td>1.2858</td>\n",
       "      <td>1.2989</td>\n",
       "      <td>1.3000</td>\n",
       "      <td>1.2781</td>\n",
       "      <td>31606000.0</td>\n",
       "      <td>-0.70</td>\n",
       "      <td>1</td>\n",
       "      <td>14</td>\n",
       "      <td>4</td>\n",
       "      <td>2019</td>\n",
       "    </tr>\n",
       "    <tr>\n",
       "      <th>1033</th>\n",
       "      <td>2019-03-01</td>\n",
       "      <td>1.2948</td>\n",
       "      <td>1.2904</td>\n",
       "      <td>1.2969</td>\n",
       "      <td>1.2864</td>\n",
       "      <td>24454000.0</td>\n",
       "      <td>0.83</td>\n",
       "      <td>1</td>\n",
       "      <td>9</td>\n",
       "      <td>3</td>\n",
       "      <td>2019</td>\n",
       "    </tr>\n",
       "    <tr>\n",
       "      <th>1034</th>\n",
       "      <td>2019-02-01</td>\n",
       "      <td>1.2841</td>\n",
       "      <td>1.2850</td>\n",
       "      <td>1.2910</td>\n",
       "      <td>1.2806</td>\n",
       "      <td>23533000.0</td>\n",
       "      <td>0.22</td>\n",
       "      <td>1</td>\n",
       "      <td>5</td>\n",
       "      <td>2</td>\n",
       "      <td>2019</td>\n",
       "    </tr>\n",
       "  </tbody>\n",
       "</table>\n",
       "<p>1033 rows × 11 columns</p>\n",
       "</div>"
      ],
      "text/plain": [
       "        Tanggal  Terakhir  Pembukaan  Tertinggi  Terendah        Vol.  \\\n",
       "0    2022-12-30    1.8262     1.8218     1.8324    1.8198  10750000.0   \n",
       "1    2022-12-29    1.8260     1.8123     1.8273    1.8112  10599000.0   \n",
       "2    2022-12-28    1.8158     1.8224     1.8228    1.8042  11808000.0   \n",
       "3    2022-12-27    1.8231     1.8082     1.8419    1.8080  15962000.0   \n",
       "5    2022-12-23    1.8042     1.8010     1.8122    1.7989  10546000.0   \n",
       "...         ...       ...        ...        ...       ...         ...   \n",
       "1030 2019-08-01    1.2859     1.2874     1.2884    1.2802  22192000.0   \n",
       "1031 2019-07-01    1.2899     1.2902     1.2970    1.2873  20468000.0   \n",
       "1032 2019-04-01    1.2858     1.2989     1.3000    1.2781  31606000.0   \n",
       "1033 2019-03-01    1.2948     1.2904     1.2969    1.2864  24454000.0   \n",
       "1034 2019-02-01    1.2841     1.2850     1.2910    1.2806  23533000.0   \n",
       "\n",
       "      Perubahan%  day  week  month  year  \n",
       "0           0.01   30    52     12  2022  \n",
       "1           0.56   29    52     12  2022  \n",
       "2          -0.40   28    52     12  2022  \n",
       "3           0.74   27    52     12  2022  \n",
       "5           0.50   23    51     12  2022  \n",
       "...          ...  ...   ...    ...   ...  \n",
       "1030       -0.31    1    31      8  2019  \n",
       "1031        0.32    1    27      7  2019  \n",
       "1032       -0.70    1    14      4  2019  \n",
       "1033        0.83    1     9      3  2019  \n",
       "1034        0.22    1     5      2  2019  \n",
       "\n",
       "[1033 rows x 11 columns]"
      ]
     },
     "execution_count": 16,
     "metadata": {},
     "output_type": "execute_result"
    }
   ],
   "source": [
    "#membagi waktu menjadi har,minggu,bulan,tahun\n",
    "df['day'] =df['Tanggal'].dt.day\n",
    "df['week'] =df['Tanggal'].dt.week\n",
    "df['month'] =df['Tanggal'].dt.month \n",
    "df['year'] =df['Tanggal'].dt.year\n",
    "df"
   ]
  },
  {
   "cell_type": "code",
   "execution_count": 17,
   "id": "0b5e573a",
   "metadata": {},
   "outputs": [
    {
     "name": "stdout",
     "output_type": "stream",
     "text": [
      "        Tanggal  Terakhir  Pembukaan  Tertinggi  Terendah        Vol.  \\\n",
      "0    2022-12-30    1.8262     1.8218     1.8324    1.8198  10750000.0   \n",
      "1    2022-12-29    1.8260     1.8123     1.8273    1.8112  10599000.0   \n",
      "2    2022-12-28    1.8158     1.8224     1.8228    1.8042  11808000.0   \n",
      "3    2022-12-27    1.8231     1.8082     1.8419    1.8080  15962000.0   \n",
      "5    2022-12-23    1.8042     1.8010     1.8122    1.7989  10546000.0   \n",
      "...         ...       ...        ...        ...       ...         ...   \n",
      "1030 2019-08-01    1.2859     1.2874     1.2884    1.2802  22192000.0   \n",
      "1031 2019-07-01    1.2899     1.2902     1.2970    1.2873  20468000.0   \n",
      "1032 2019-04-01    1.2858     1.2989     1.3000    1.2781  31606000.0   \n",
      "1033 2019-03-01    1.2948     1.2904     1.2969    1.2864  24454000.0   \n",
      "1034 2019-02-01    1.2841     1.2850     1.2910    1.2806  23533000.0   \n",
      "\n",
      "      Perubahan%  day  week  month  year  \n",
      "0           0.01   30    52     12  2022  \n",
      "1           0.56   29    52     12  2022  \n",
      "2          -0.40   28    52     12  2022  \n",
      "3           0.74   27    52     12  2022  \n",
      "5           0.50   23    51     12  2022  \n",
      "...          ...  ...   ...    ...   ...  \n",
      "1030       -0.31    1    31      8  2019  \n",
      "1031        0.32    1    27      7  2019  \n",
      "1032       -0.70    1    14      4  2019  \n",
      "1033        0.83    1     9      3  2019  \n",
      "1034        0.22    1     5      2  2019  \n",
      "\n",
      "[1033 rows x 11 columns]\n"
     ]
    }
   ],
   "source": [
    "print(df.dropna())\n",
    "df.to_csv('./dataset/clean_data.csv',index=False)"
   ]
  },
  {
   "cell_type": "code",
   "execution_count": 18,
   "id": "35edfa84",
   "metadata": {},
   "outputs": [
    {
     "data": {
      "text/html": [
       "<div>\n",
       "<style scoped>\n",
       "    .dataframe tbody tr th:only-of-type {\n",
       "        vertical-align: middle;\n",
       "    }\n",
       "\n",
       "    .dataframe tbody tr th {\n",
       "        vertical-align: top;\n",
       "    }\n",
       "\n",
       "    .dataframe thead th {\n",
       "        text-align: right;\n",
       "    }\n",
       "</style>\n",
       "<table border=\"1\" class=\"dataframe\">\n",
       "  <thead>\n",
       "    <tr style=\"text-align: right;\">\n",
       "      <th></th>\n",
       "      <th>len</th>\n",
       "      <th>min</th>\n",
       "      <th>max</th>\n",
       "    </tr>\n",
       "    <tr>\n",
       "      <th>year</th>\n",
       "      <th></th>\n",
       "      <th></th>\n",
       "      <th></th>\n",
       "    </tr>\n",
       "  </thead>\n",
       "  <tbody>\n",
       "    <tr>\n",
       "      <th>2019</th>\n",
       "      <td>258</td>\n",
       "      <td>1.2720</td>\n",
       "      <td>1.5604</td>\n",
       "    </tr>\n",
       "    <tr>\n",
       "      <th>2020</th>\n",
       "      <td>259</td>\n",
       "      <td>1.4779</td>\n",
       "      <td>2.0694</td>\n",
       "    </tr>\n",
       "    <tr>\n",
       "      <th>2021</th>\n",
       "      <td>258</td>\n",
       "      <td>1.6780</td>\n",
       "      <td>1.9544</td>\n",
       "    </tr>\n",
       "    <tr>\n",
       "      <th>2022</th>\n",
       "      <td>258</td>\n",
       "      <td>1.6309</td>\n",
       "      <td>2.0433</td>\n",
       "    </tr>\n",
       "  </tbody>\n",
       "</table>\n",
       "</div>"
      ],
      "text/plain": [
       "      len     min     max\n",
       "year                     \n",
       "2019  258  1.2720  1.5604\n",
       "2020  259  1.4779  2.0694\n",
       "2021  258  1.6780  1.9544\n",
       "2022  258  1.6309  2.0433"
      ]
     },
     "execution_count": 18,
     "metadata": {},
     "output_type": "execute_result"
    }
   ],
   "source": [
    "df.groupby('year')['Terakhir'].agg([len,min,max])"
   ]
  },
  {
   "cell_type": "markdown",
   "id": "618c3c91",
   "metadata": {},
   "source": [
    "## Beri Keterangan"
   ]
  },
  {
   "cell_type": "code",
   "execution_count": 19,
   "id": "32da0fb9",
   "metadata": {},
   "outputs": [
    {
     "data": {
      "image/png": "[encoded data removed]",
      "text/plain": [
       "<Figure size 640x480 with 1 Axes>"
      ]
     },
     "metadata": {},
     "output_type": "display_data"
    }
   ],
   "source": [
    "# Data harga Emas\n",
    "X = df['Tanggal'].astype(np.int64) // 10**9  # Mengonversi tanggal ke unix timestamp (numerik)\n",
    "y = df['Terakhir'].values  # Harga Emas\n",
    "\n",
    "# Menggunakan regresi polinomial dengan derajat 2\n",
    "coefficients = np.polyfit(X, y, 2)\n",
    "polynomial = np.poly1d(coefficients)\n",
    "y_pred = polynomial(X)\n",
    "\n",
    "# Plot data asli dan kurva regresi polinomial\n",
    "plt.scatter(df['Tanggal'], y, label='Data Harga Emas')\n",
    "plt.plot(df['Tanggal'], y_pred, color='red', label='Regresi Polinomial')\n",
    "plt.xlabel('Waktu')\n",
    "plt.ylabel('Harga Emas')\n",
    "plt.savefig('./grafik/harga.png')\n",
    "plt.legend()\n",
    "plt.show()"
   ]
  },
  {
   "cell_type": "markdown",
   "id": "59a58146",
   "metadata": {},
   "source": [
    "#### terjadi kenaikan harga yang signifikan pada awal tahun 2019-awal tahun 2021\n",
    "#### Pada kurun waktu awal tahun 2021- awal tahun 2022 harga cederung stabil (perubahan harga tidak signifikan)\n",
    "#### Sepanjang awal tahun2022 - awal tahun 2023 terjadi penurunan harga yang cukup signifikan"
   ]
  },
  {
   "cell_type": "code",
   "execution_count": 20,
   "id": "7fa69d23",
   "metadata": {},
   "outputs": [
    {
     "data": {
      "text/plain": [
       "<Figure size 1600x600 with 0 Axes>"
      ]
     },
     "metadata": {},
     "output_type": "display_data"
    },
    {
     "data": {
      "image/png": "[encoded data removed]",
      "text/plain": [
       "<Figure size 640x480 with 1 Axes>"
      ]
     },
     "metadata": {},
     "output_type": "display_data"
    }
   ],
   "source": [
    "#visualisasi data harga saham\n",
    "plt.figure(figsize=(16,6))\n",
    "monthly_sales = pd.pivot_table(df, values = \"Terakhir\", columns = \"year\", index = \"month\")\n",
    "plt.savefig('./grafik/hargaemas.png')\n",
    "monthly_sales.plot()\n",
    "plt.title('Harga Emas Pertahun')\n",
    "plt.grid()"
   ]
  },
  {
   "cell_type": "code",
   "execution_count": 21,
   "id": "5d5eed31",
   "metadata": {},
   "outputs": [
    {
     "data": {
      "image/png": "[encoded data removed]",
      "text/plain": [
       "<Figure size 1000x400 with 1 Axes>"
      ]
     },
     "metadata": {},
     "output_type": "display_data"
    }
   ],
   "source": [
    "#visualisasi harga emas perbulan \n",
    "plt.figure(figsize=(10,4))\n",
    "sns.barplot(x='month',y='Terakhir',data=df)\n",
    "plt.ylabel('Harga Emas Perbulan',fontsize=14)\n",
    "plt.xlabel('Bulan',fontsize=14)\n",
    "plt.title('Rata-rata Penjualan Perbulan',fontsize=16)\n",
    "plt.savefig('./grafik/penjualan perbulan.png')\n",
    "plt.grid()"
   ]
  },
  {
   "cell_type": "code",
   "execution_count": 22,
   "id": "08f02a25",
   "metadata": {},
   "outputs": [
    {
     "data": {
      "text/html": [
       "<div>\n",
       "<style scoped>\n",
       "    .dataframe tbody tr th:only-of-type {\n",
       "        vertical-align: middle;\n",
       "    }\n",
       "\n",
       "    .dataframe tbody tr th {\n",
       "        vertical-align: top;\n",
       "    }\n",
       "\n",
       "    .dataframe thead th {\n",
       "        text-align: right;\n",
       "    }\n",
       "</style>\n",
       "<table border=\"1\" class=\"dataframe\">\n",
       "  <thead>\n",
       "    <tr style=\"text-align: right;\">\n",
       "      <th></th>\n",
       "      <th>len</th>\n",
       "      <th>min</th>\n",
       "      <th>max</th>\n",
       "      <th>sum</th>\n",
       "    </tr>\n",
       "    <tr>\n",
       "      <th>month</th>\n",
       "      <th></th>\n",
       "      <th></th>\n",
       "      <th></th>\n",
       "      <th></th>\n",
       "    </tr>\n",
       "  </thead>\n",
       "  <tbody>\n",
       "    <tr>\n",
       "      <th>1</th>\n",
       "      <td>88</td>\n",
       "      <td>1.2798</td>\n",
       "      <td>1.9789</td>\n",
       "      <td>145.3222</td>\n",
       "    </tr>\n",
       "    <tr>\n",
       "      <th>2</th>\n",
       "      <td>78</td>\n",
       "      <td>1.2720</td>\n",
       "      <td>1.9447</td>\n",
       "      <td>130.0503</td>\n",
       "    </tr>\n",
       "    <tr>\n",
       "      <th>3</th>\n",
       "      <td>87</td>\n",
       "      <td>1.2813</td>\n",
       "      <td>1.9863</td>\n",
       "      <td>144.4588</td>\n",
       "    </tr>\n",
       "    <tr>\n",
       "      <th>4</th>\n",
       "      <td>86</td>\n",
       "      <td>1.2732</td>\n",
       "      <td>2.0210</td>\n",
       "      <td>145.4594</td>\n",
       "    </tr>\n",
       "    <tr>\n",
       "      <th>5</th>\n",
       "      <td>87</td>\n",
       "      <td>1.2732</td>\n",
       "      <td>2.0493</td>\n",
       "      <td>145.8480</td>\n",
       "    </tr>\n",
       "    <tr>\n",
       "      <th>6</th>\n",
       "      <td>84</td>\n",
       "      <td>1.2838</td>\n",
       "      <td>2.0694</td>\n",
       "      <td>142.5495</td>\n",
       "    </tr>\n",
       "    <tr>\n",
       "      <th>7</th>\n",
       "      <td>90</td>\n",
       "      <td>1.2856</td>\n",
       "      <td>2.0280</td>\n",
       "      <td>154.1281</td>\n",
       "    </tr>\n",
       "    <tr>\n",
       "      <th>8</th>\n",
       "      <td>89</td>\n",
       "      <td>1.2814</td>\n",
       "      <td>2.0433</td>\n",
       "      <td>154.1283</td>\n",
       "    </tr>\n",
       "    <tr>\n",
       "      <th>9</th>\n",
       "      <td>87</td>\n",
       "      <td>1.2852</td>\n",
       "      <td>1.9882</td>\n",
       "      <td>149.2951</td>\n",
       "    </tr>\n",
       "    <tr>\n",
       "      <th>10</th>\n",
       "      <td>87</td>\n",
       "      <td>1.2874</td>\n",
       "      <td>2.0397</td>\n",
       "      <td>148.5163</td>\n",
       "    </tr>\n",
       "    <tr>\n",
       "      <th>11</th>\n",
       "      <td>85</td>\n",
       "      <td>1.2895</td>\n",
       "      <td>1.9850</td>\n",
       "      <td>144.8275</td>\n",
       "    </tr>\n",
       "    <tr>\n",
       "      <th>12</th>\n",
       "      <td>85</td>\n",
       "      <td>1.2952</td>\n",
       "      <td>1.9761</td>\n",
       "      <td>146.5819</td>\n",
       "    </tr>\n",
       "  </tbody>\n",
       "</table>\n",
       "</div>"
      ],
      "text/plain": [
       "       len     min     max       sum\n",
       "month                               \n",
       "1       88  1.2798  1.9789  145.3222\n",
       "2       78  1.2720  1.9447  130.0503\n",
       "3       87  1.2813  1.9863  144.4588\n",
       "4       86  1.2732  2.0210  145.4594\n",
       "5       87  1.2732  2.0493  145.8480\n",
       "6       84  1.2838  2.0694  142.5495\n",
       "7       90  1.2856  2.0280  154.1281\n",
       "8       89  1.2814  2.0433  154.1283\n",
       "9       87  1.2852  1.9882  149.2951\n",
       "10      87  1.2874  2.0397  148.5163\n",
       "11      85  1.2895  1.9850  144.8275\n",
       "12      85  1.2952  1.9761  146.5819"
      ]
     },
     "execution_count": 22,
     "metadata": {},
     "output_type": "execute_result"
    }
   ],
   "source": [
    "df.groupby('month')['Terakhir'].agg([len,min,max,sum])"
   ]
  },
  {
   "cell_type": "markdown",
   "id": "24167004",
   "metadata": {},
   "source": [
    "## Beri Ket"
   ]
  },
  {
   "cell_type": "code",
   "execution_count": 23,
   "id": "2d8d302e",
   "metadata": {},
   "outputs": [
    {
     "data": {
      "image/png": "[encoded data removed]",
      "text/plain": [
       "<Figure size 1000x600 with 1 Axes>"
      ]
     },
     "metadata": {},
     "output_type": "display_data"
    }
   ],
   "source": [
    "# Histogram harga saham\n",
    "plt.figure(figsize=(10, 6))\n",
    "plt.hist(df['Terakhir'], bins=20)\n",
    "plt.xlabel('Terakhir')\n",
    "plt.ylabel('Frequency')\n",
    "plt.title('Price Distribution')\n",
    "plt.savefig('./grafik/frekuensiharga.png')\n",
    "plt.show()"
   ]
  },
  {
   "cell_type": "code",
   "execution_count": 24,
   "id": "1f078b15",
   "metadata": {},
   "outputs": [
    {
     "data": {
      "text/plain": [
       "<Figure size 1600x600 with 0 Axes>"
      ]
     },
     "metadata": {},
     "output_type": "display_data"
    },
    {
     "data": {
      "image/png": "[encoded data removed]",
      "text/plain": [
       "<Figure size 640x480 with 1 Axes>"
      ]
     },
     "metadata": {},
     "output_type": "display_data"
    }
   ],
   "source": [
    "#Visualisasi data penjualan setiap minggu\n",
    "plt.figure(figsize=(16,6))\n",
    "Price = pd.pivot_table(df, values = \"Terakhir\", columns = \"year\", index = \"week\").interpolate()\n",
    "Price.plot()\n",
    "plt.savefig('./grafik/ClosingPerminggu.png')\n",
    "plt.grid()"
   ]
  },
  {
   "cell_type": "markdown",
   "id": "a6bc66ea",
   "metadata": {},
   "source": [
    "print(df['day'].interpolate().count())"
   ]
  },
  {
   "cell_type": "code",
   "execution_count": 25,
   "id": "f7674005",
   "metadata": {},
   "outputs": [
    {
     "data": {
      "image/png": "[encoded data removed]",
      "text/plain": [
       "<Figure size 1600x600 with 1 Axes>"
      ]
     },
     "metadata": {},
     "output_type": "display_data"
    }
   ],
   "source": [
    "plt.figure(figsize=(16,6))\n",
    "sns.barplot(x='week',y='Terakhir',data=df)\n",
    "plt.ylabel('Closing Perminggu',fontsize=12)\n",
    "plt.xlabel('Minggu',fontsize=14)\n",
    "plt.title('Rata-rata Penjualan Perminggu',fontsize=14)\n",
    "plt.savefig('./grafik/penjualan-minggu.png')\n",
    "plt.grid()"
   ]
  },
  {
   "cell_type": "code",
   "execution_count": 26,
   "id": "0ad5557a",
   "metadata": {},
   "outputs": [
    {
     "data": {
      "text/plain": [
       "week\n",
       "53    1.856450\n",
       "34    1.763875\n",
       "28    1.761961\n",
       "52    1.761178\n",
       "15    1.759413\n",
       "Name: Terakhir, dtype: float64"
      ]
     },
     "execution_count": 26,
     "metadata": {},
     "output_type": "execute_result"
    }
   ],
   "source": [
    "df.groupby('week')['Terakhir'].mean().sort_values(ascending=False).head()"
   ]
  },
  {
   "cell_type": "markdown",
   "id": "c4004c78",
   "metadata": {},
   "source": [
    "# 4-2. Open (Harga Pembukaan)"
   ]
  },
  {
   "cell_type": "code",
   "execution_count": 27,
   "id": "d082a6e4",
   "metadata": {},
   "outputs": [
    {
     "data": {
      "image/png": "[encoded data removed]",
      "text/plain": [
       "<Figure size 1000x600 with 1 Axes>"
      ]
     },
     "metadata": {},
     "output_type": "display_data"
    }
   ],
   "source": [
    "plt.figure(figsize=(10, 6))\n",
    "plt.hist(df['Pembukaan'], bins=20, edgecolor='k')\n",
    "plt.title('Distribusi Harga Pembukaan Emas')\n",
    "plt.xlabel('Harga Pembukaan')\n",
    "plt.savefig('./grafik/harga Pembukaan.png')\n",
    "plt.ylabel('Frekuensi')\n",
    "plt.show()\n"
   ]
  },
  {
   "cell_type": "code",
   "execution_count": 28,
   "id": "71fe2cc8",
   "metadata": {},
   "outputs": [
    {
     "data": {
      "image/png": "[encoded data removed]",
      "text/plain": [
       "<Figure size 640x480 with 1 Axes>"
      ]
     },
     "metadata": {},
     "output_type": "display_data"
    }
   ],
   "source": [
    "# Menghitung Penurunan Harga\n",
    "df['Perubahan%'] = df['Pembukaan'].diff()\n",
    "\n",
    "# Analisis Distribusi dan Visualisasi\n",
    "plt.hist(df['Perubahan%'], bins=10, edgecolor='red')\n",
    "plt.title('Distribusi Penurunan Harga')\n",
    "plt.xlabel('Penurunan Harga')\n",
    "plt.ylabel('Frekuensi')\n",
    "plt.savefig('./grafik/hargapembukaan.png')\n",
    "plt.grid(True)\n",
    "plt.show()"
   ]
  },
  {
   "cell_type": "markdown",
   "id": "ea9ae98e",
   "metadata": {},
   "source": [
    "### Penjelasan kode\n",
    "- fungsi .diff() pada kolom 'Open' untuk menghitung perbedaan harga pembukaan antara hari ini dan hari sebelumnya. Hasilnya akan disimpan dalam kolom baru 'Price Change'."
   ]
  },
  {
   "cell_type": "code",
   "execution_count": 29,
   "id": "c5fd34c6",
   "metadata": {},
   "outputs": [
    {
     "data": {
      "text/plain": [
       "count    1032.00\n",
       "mean       -0.00\n",
       "std         0.02\n",
       "min        -0.10\n",
       "25%        -0.01\n",
       "50%        -0.00\n",
       "75%         0.01\n",
       "max         0.12\n",
       "Name: Perubahan%, dtype: float64"
      ]
     },
     "execution_count": 29,
     "metadata": {},
     "output_type": "execute_result"
    }
   ],
   "source": [
    "df['Perubahan%'].describe().round(2)"
   ]
  },
  {
   "cell_type": "markdown",
   "id": "9b70fc89",
   "metadata": {},
   "source": [
    "## 4-3. Harga Tertinggi"
   ]
  },
  {
   "cell_type": "code",
   "execution_count": 30,
   "id": "72113c09",
   "metadata": {},
   "outputs": [
    {
     "data": {
      "image/png": "[encoded data removed]",
      "text/plain": [
       "<Figure size 640x480 with 1 Axes>"
      ]
     },
     "metadata": {},
     "output_type": "display_data"
    }
   ],
   "source": [
    "plt.hist(df['Tertinggi'], bins=10)\n",
    "plt.title('Distribusi Harga Emas Tertinggi')\n",
    "plt.xlabel('Harga Emas Tertinggi')\n",
    "plt.ylabel('Frekuensi')\n",
    "plt.savefig('./grafik/hargaTertinggi.png')\n",
    "plt.show()"
   ]
  },
  {
   "cell_type": "code",
   "execution_count": 31,
   "id": "a01a9068",
   "metadata": {},
   "outputs": [
    {
     "data": {
      "text/plain": [
       "<Figure size 1600x600 with 0 Axes>"
      ]
     },
     "metadata": {},
     "output_type": "display_data"
    },
    {
     "data": {
      "image/png": "[encoded data removed]",
      "text/plain": [
       "<Figure size 640x480 with 1 Axes>"
      ]
     },
     "metadata": {},
     "output_type": "display_data"
    }
   ],
   "source": [
    "#visualisasi data harga emas\n",
    "plt.figure(figsize=(16,6))\n",
    "monthly_sales = pd.pivot_table(df, values = \"Perubahan%\", columns = \"year\", index = \"month\")\n",
    "plt.savefig('./perubahan harga emas.png')\n",
    "monthly_sales.plot()\n",
    "plt.title('Perubahan Harga Emas Pertahun')\n",
    "plt.savefig('./grafik/perubahanHarga.png')\n",
    "plt.grid()"
   ]
  },
  {
   "cell_type": "code",
   "execution_count": 32,
   "id": "535f7053",
   "metadata": {},
   "outputs": [
    {
     "data": {
      "text/html": [
       "<div>\n",
       "<style scoped>\n",
       "    .dataframe tbody tr th:only-of-type {\n",
       "        vertical-align: middle;\n",
       "    }\n",
       "\n",
       "    .dataframe tbody tr th {\n",
       "        vertical-align: top;\n",
       "    }\n",
       "\n",
       "    .dataframe thead th {\n",
       "        text-align: right;\n",
       "    }\n",
       "</style>\n",
       "<table border=\"1\" class=\"dataframe\">\n",
       "  <thead>\n",
       "    <tr style=\"text-align: right;\">\n",
       "      <th></th>\n",
       "      <th>Tanggal</th>\n",
       "      <th>Terakhir</th>\n",
       "      <th>Pembukaan</th>\n",
       "      <th>Tertinggi</th>\n",
       "      <th>Terendah</th>\n",
       "      <th>Vol.</th>\n",
       "      <th>Perubahan%</th>\n",
       "      <th>day</th>\n",
       "      <th>week</th>\n",
       "      <th>month</th>\n",
       "      <th>year</th>\n",
       "    </tr>\n",
       "  </thead>\n",
       "  <tbody>\n",
       "    <tr>\n",
       "      <th>0</th>\n",
       "      <td>2022-12-30</td>\n",
       "      <td>1.8262</td>\n",
       "      <td>1.8218</td>\n",
       "      <td>1.8324</td>\n",
       "      <td>1.8198</td>\n",
       "      <td>10750000.0</td>\n",
       "      <td>NaN</td>\n",
       "      <td>30</td>\n",
       "      <td>52</td>\n",
       "      <td>12</td>\n",
       "      <td>2022</td>\n",
       "    </tr>\n",
       "    <tr>\n",
       "      <th>1</th>\n",
       "      <td>2022-12-29</td>\n",
       "      <td>1.8260</td>\n",
       "      <td>1.8123</td>\n",
       "      <td>1.8273</td>\n",
       "      <td>1.8112</td>\n",
       "      <td>10599000.0</td>\n",
       "      <td>-0.0002</td>\n",
       "      <td>29</td>\n",
       "      <td>52</td>\n",
       "      <td>12</td>\n",
       "      <td>2022</td>\n",
       "    </tr>\n",
       "    <tr>\n",
       "      <th>2</th>\n",
       "      <td>2022-12-28</td>\n",
       "      <td>1.8158</td>\n",
       "      <td>1.8224</td>\n",
       "      <td>1.8228</td>\n",
       "      <td>1.8042</td>\n",
       "      <td>11808000.0</td>\n",
       "      <td>-0.0102</td>\n",
       "      <td>28</td>\n",
       "      <td>52</td>\n",
       "      <td>12</td>\n",
       "      <td>2022</td>\n",
       "    </tr>\n",
       "    <tr>\n",
       "      <th>3</th>\n",
       "      <td>2022-12-27</td>\n",
       "      <td>1.8231</td>\n",
       "      <td>1.8082</td>\n",
       "      <td>1.8419</td>\n",
       "      <td>1.8080</td>\n",
       "      <td>15962000.0</td>\n",
       "      <td>0.0073</td>\n",
       "      <td>27</td>\n",
       "      <td>52</td>\n",
       "      <td>12</td>\n",
       "      <td>2022</td>\n",
       "    </tr>\n",
       "    <tr>\n",
       "      <th>5</th>\n",
       "      <td>2022-12-23</td>\n",
       "      <td>1.8042</td>\n",
       "      <td>1.8010</td>\n",
       "      <td>1.8122</td>\n",
       "      <td>1.7989</td>\n",
       "      <td>10546000.0</td>\n",
       "      <td>-0.0189</td>\n",
       "      <td>23</td>\n",
       "      <td>51</td>\n",
       "      <td>12</td>\n",
       "      <td>2022</td>\n",
       "    </tr>\n",
       "    <tr>\n",
       "      <th>...</th>\n",
       "      <td>...</td>\n",
       "      <td>...</td>\n",
       "      <td>...</td>\n",
       "      <td>...</td>\n",
       "      <td>...</td>\n",
       "      <td>...</td>\n",
       "      <td>...</td>\n",
       "      <td>...</td>\n",
       "      <td>...</td>\n",
       "      <td>...</td>\n",
       "      <td>...</td>\n",
       "    </tr>\n",
       "    <tr>\n",
       "      <th>1030</th>\n",
       "      <td>2019-08-01</td>\n",
       "      <td>1.2859</td>\n",
       "      <td>1.2874</td>\n",
       "      <td>1.2884</td>\n",
       "      <td>1.2802</td>\n",
       "      <td>22192000.0</td>\n",
       "      <td>-0.0061</td>\n",
       "      <td>1</td>\n",
       "      <td>31</td>\n",
       "      <td>8</td>\n",
       "      <td>2019</td>\n",
       "    </tr>\n",
       "    <tr>\n",
       "      <th>1031</th>\n",
       "      <td>2019-07-01</td>\n",
       "      <td>1.2899</td>\n",
       "      <td>1.2902</td>\n",
       "      <td>1.2970</td>\n",
       "      <td>1.2873</td>\n",
       "      <td>20468000.0</td>\n",
       "      <td>0.0040</td>\n",
       "      <td>1</td>\n",
       "      <td>27</td>\n",
       "      <td>7</td>\n",
       "      <td>2019</td>\n",
       "    </tr>\n",
       "    <tr>\n",
       "      <th>1032</th>\n",
       "      <td>2019-04-01</td>\n",
       "      <td>1.2858</td>\n",
       "      <td>1.2989</td>\n",
       "      <td>1.3000</td>\n",
       "      <td>1.2781</td>\n",
       "      <td>31606000.0</td>\n",
       "      <td>-0.0041</td>\n",
       "      <td>1</td>\n",
       "      <td>14</td>\n",
       "      <td>4</td>\n",
       "      <td>2019</td>\n",
       "    </tr>\n",
       "    <tr>\n",
       "      <th>1033</th>\n",
       "      <td>2019-03-01</td>\n",
       "      <td>1.2948</td>\n",
       "      <td>1.2904</td>\n",
       "      <td>1.2969</td>\n",
       "      <td>1.2864</td>\n",
       "      <td>24454000.0</td>\n",
       "      <td>0.0090</td>\n",
       "      <td>1</td>\n",
       "      <td>9</td>\n",
       "      <td>3</td>\n",
       "      <td>2019</td>\n",
       "    </tr>\n",
       "    <tr>\n",
       "      <th>1034</th>\n",
       "      <td>2019-02-01</td>\n",
       "      <td>1.2841</td>\n",
       "      <td>1.2850</td>\n",
       "      <td>1.2910</td>\n",
       "      <td>1.2806</td>\n",
       "      <td>23533000.0</td>\n",
       "      <td>-0.0107</td>\n",
       "      <td>1</td>\n",
       "      <td>5</td>\n",
       "      <td>2</td>\n",
       "      <td>2019</td>\n",
       "    </tr>\n",
       "  </tbody>\n",
       "</table>\n",
       "<p>1033 rows × 11 columns</p>\n",
       "</div>"
      ],
      "text/plain": [
       "        Tanggal  Terakhir  Pembukaan  Tertinggi  Terendah        Vol.  \\\n",
       "0    2022-12-30    1.8262     1.8218     1.8324    1.8198  10750000.0   \n",
       "1    2022-12-29    1.8260     1.8123     1.8273    1.8112  10599000.0   \n",
       "2    2022-12-28    1.8158     1.8224     1.8228    1.8042  11808000.0   \n",
       "3    2022-12-27    1.8231     1.8082     1.8419    1.8080  15962000.0   \n",
       "5    2022-12-23    1.8042     1.8010     1.8122    1.7989  10546000.0   \n",
       "...         ...       ...        ...        ...       ...         ...   \n",
       "1030 2019-08-01    1.2859     1.2874     1.2884    1.2802  22192000.0   \n",
       "1031 2019-07-01    1.2899     1.2902     1.2970    1.2873  20468000.0   \n",
       "1032 2019-04-01    1.2858     1.2989     1.3000    1.2781  31606000.0   \n",
       "1033 2019-03-01    1.2948     1.2904     1.2969    1.2864  24454000.0   \n",
       "1034 2019-02-01    1.2841     1.2850     1.2910    1.2806  23533000.0   \n",
       "\n",
       "      Perubahan%  day  week  month  year  \n",
       "0            NaN   30    52     12  2022  \n",
       "1        -0.0002   29    52     12  2022  \n",
       "2        -0.0102   28    52     12  2022  \n",
       "3         0.0073   27    52     12  2022  \n",
       "5        -0.0189   23    51     12  2022  \n",
       "...          ...  ...   ...    ...   ...  \n",
       "1030     -0.0061    1    31      8  2019  \n",
       "1031      0.0040    1    27      7  2019  \n",
       "1032     -0.0041    1    14      4  2019  \n",
       "1033      0.0090    1     9      3  2019  \n",
       "1034     -0.0107    1     5      2  2019  \n",
       "\n",
       "[1033 rows x 11 columns]"
      ]
     },
     "execution_count": 32,
     "metadata": {},
     "output_type": "execute_result"
    }
   ],
   "source": [
    "# Menghitung perubahan harga dari hari sebelumnya\n",
    "df['Perubahan%'] = df['Terakhir'].diff()\n",
    "df"
   ]
  },
  {
   "cell_type": "code",
   "execution_count": 33,
   "id": "0f7f8b98",
   "metadata": {},
   "outputs": [
    {
     "data": {
      "text/html": [
       "<div>\n",
       "<style scoped>\n",
       "    .dataframe tbody tr th:only-of-type {\n",
       "        vertical-align: middle;\n",
       "    }\n",
       "\n",
       "    .dataframe tbody tr th {\n",
       "        vertical-align: top;\n",
       "    }\n",
       "\n",
       "    .dataframe thead th {\n",
       "        text-align: right;\n",
       "    }\n",
       "</style>\n",
       "<table border=\"1\" class=\"dataframe\">\n",
       "  <thead>\n",
       "    <tr style=\"text-align: right;\">\n",
       "      <th></th>\n",
       "      <th>Tanggal</th>\n",
       "      <th>Terakhir</th>\n",
       "      <th>Pembukaan</th>\n",
       "      <th>Tertinggi</th>\n",
       "      <th>Terendah</th>\n",
       "      <th>Vol.</th>\n",
       "      <th>Perubahan%</th>\n",
       "      <th>day</th>\n",
       "      <th>week</th>\n",
       "      <th>month</th>\n",
       "      <th>year</th>\n",
       "      <th>Gain</th>\n",
       "      <th>Loss</th>\n",
       "    </tr>\n",
       "  </thead>\n",
       "  <tbody>\n",
       "    <tr>\n",
       "      <th>0</th>\n",
       "      <td>2022-12-30</td>\n",
       "      <td>1.8262</td>\n",
       "      <td>1.8218</td>\n",
       "      <td>1.8324</td>\n",
       "      <td>1.8198</td>\n",
       "      <td>10750000.0</td>\n",
       "      <td>NaN</td>\n",
       "      <td>30</td>\n",
       "      <td>52</td>\n",
       "      <td>12</td>\n",
       "      <td>2022</td>\n",
       "      <td>0.0000</td>\n",
       "      <td>0.0000</td>\n",
       "    </tr>\n",
       "    <tr>\n",
       "      <th>1</th>\n",
       "      <td>2022-12-29</td>\n",
       "      <td>1.8260</td>\n",
       "      <td>1.8123</td>\n",
       "      <td>1.8273</td>\n",
       "      <td>1.8112</td>\n",
       "      <td>10599000.0</td>\n",
       "      <td>-0.0002</td>\n",
       "      <td>29</td>\n",
       "      <td>52</td>\n",
       "      <td>12</td>\n",
       "      <td>2022</td>\n",
       "      <td>0.0000</td>\n",
       "      <td>-0.0002</td>\n",
       "    </tr>\n",
       "    <tr>\n",
       "      <th>2</th>\n",
       "      <td>2022-12-28</td>\n",
       "      <td>1.8158</td>\n",
       "      <td>1.8224</td>\n",
       "      <td>1.8228</td>\n",
       "      <td>1.8042</td>\n",
       "      <td>11808000.0</td>\n",
       "      <td>-0.0102</td>\n",
       "      <td>28</td>\n",
       "      <td>52</td>\n",
       "      <td>12</td>\n",
       "      <td>2022</td>\n",
       "      <td>0.0000</td>\n",
       "      <td>-0.0102</td>\n",
       "    </tr>\n",
       "    <tr>\n",
       "      <th>3</th>\n",
       "      <td>2022-12-27</td>\n",
       "      <td>1.8231</td>\n",
       "      <td>1.8082</td>\n",
       "      <td>1.8419</td>\n",
       "      <td>1.8080</td>\n",
       "      <td>15962000.0</td>\n",
       "      <td>0.0073</td>\n",
       "      <td>27</td>\n",
       "      <td>52</td>\n",
       "      <td>12</td>\n",
       "      <td>2022</td>\n",
       "      <td>0.0073</td>\n",
       "      <td>0.0000</td>\n",
       "    </tr>\n",
       "    <tr>\n",
       "      <th>5</th>\n",
       "      <td>2022-12-23</td>\n",
       "      <td>1.8042</td>\n",
       "      <td>1.8010</td>\n",
       "      <td>1.8122</td>\n",
       "      <td>1.7989</td>\n",
       "      <td>10546000.0</td>\n",
       "      <td>-0.0189</td>\n",
       "      <td>23</td>\n",
       "      <td>51</td>\n",
       "      <td>12</td>\n",
       "      <td>2022</td>\n",
       "      <td>0.0000</td>\n",
       "      <td>-0.0189</td>\n",
       "    </tr>\n",
       "    <tr>\n",
       "      <th>...</th>\n",
       "      <td>...</td>\n",
       "      <td>...</td>\n",
       "      <td>...</td>\n",
       "      <td>...</td>\n",
       "      <td>...</td>\n",
       "      <td>...</td>\n",
       "      <td>...</td>\n",
       "      <td>...</td>\n",
       "      <td>...</td>\n",
       "      <td>...</td>\n",
       "      <td>...</td>\n",
       "      <td>...</td>\n",
       "      <td>...</td>\n",
       "    </tr>\n",
       "    <tr>\n",
       "      <th>1030</th>\n",
       "      <td>2019-08-01</td>\n",
       "      <td>1.2859</td>\n",
       "      <td>1.2874</td>\n",
       "      <td>1.2884</td>\n",
       "      <td>1.2802</td>\n",
       "      <td>22192000.0</td>\n",
       "      <td>-0.0061</td>\n",
       "      <td>1</td>\n",
       "      <td>31</td>\n",
       "      <td>8</td>\n",
       "      <td>2019</td>\n",
       "      <td>0.0000</td>\n",
       "      <td>-0.0061</td>\n",
       "    </tr>\n",
       "    <tr>\n",
       "      <th>1031</th>\n",
       "      <td>2019-07-01</td>\n",
       "      <td>1.2899</td>\n",
       "      <td>1.2902</td>\n",
       "      <td>1.2970</td>\n",
       "      <td>1.2873</td>\n",
       "      <td>20468000.0</td>\n",
       "      <td>0.0040</td>\n",
       "      <td>1</td>\n",
       "      <td>27</td>\n",
       "      <td>7</td>\n",
       "      <td>2019</td>\n",
       "      <td>0.0040</td>\n",
       "      <td>0.0000</td>\n",
       "    </tr>\n",
       "    <tr>\n",
       "      <th>1032</th>\n",
       "      <td>2019-04-01</td>\n",
       "      <td>1.2858</td>\n",
       "      <td>1.2989</td>\n",
       "      <td>1.3000</td>\n",
       "      <td>1.2781</td>\n",
       "      <td>31606000.0</td>\n",
       "      <td>-0.0041</td>\n",
       "      <td>1</td>\n",
       "      <td>14</td>\n",
       "      <td>4</td>\n",
       "      <td>2019</td>\n",
       "      <td>0.0000</td>\n",
       "      <td>-0.0041</td>\n",
       "    </tr>\n",
       "    <tr>\n",
       "      <th>1033</th>\n",
       "      <td>2019-03-01</td>\n",
       "      <td>1.2948</td>\n",
       "      <td>1.2904</td>\n",
       "      <td>1.2969</td>\n",
       "      <td>1.2864</td>\n",
       "      <td>24454000.0</td>\n",
       "      <td>0.0090</td>\n",
       "      <td>1</td>\n",
       "      <td>9</td>\n",
       "      <td>3</td>\n",
       "      <td>2019</td>\n",
       "      <td>0.0090</td>\n",
       "      <td>0.0000</td>\n",
       "    </tr>\n",
       "    <tr>\n",
       "      <th>1034</th>\n",
       "      <td>2019-02-01</td>\n",
       "      <td>1.2841</td>\n",
       "      <td>1.2850</td>\n",
       "      <td>1.2910</td>\n",
       "      <td>1.2806</td>\n",
       "      <td>23533000.0</td>\n",
       "      <td>-0.0107</td>\n",
       "      <td>1</td>\n",
       "      <td>5</td>\n",
       "      <td>2</td>\n",
       "      <td>2019</td>\n",
       "      <td>0.0000</td>\n",
       "      <td>-0.0107</td>\n",
       "    </tr>\n",
       "  </tbody>\n",
       "</table>\n",
       "<p>1033 rows × 13 columns</p>\n",
       "</div>"
      ],
      "text/plain": [
       "        Tanggal  Terakhir  Pembukaan  Tertinggi  Terendah        Vol.  \\\n",
       "0    2022-12-30    1.8262     1.8218     1.8324    1.8198  10750000.0   \n",
       "1    2022-12-29    1.8260     1.8123     1.8273    1.8112  10599000.0   \n",
       "2    2022-12-28    1.8158     1.8224     1.8228    1.8042  11808000.0   \n",
       "3    2022-12-27    1.8231     1.8082     1.8419    1.8080  15962000.0   \n",
       "5    2022-12-23    1.8042     1.8010     1.8122    1.7989  10546000.0   \n",
       "...         ...       ...        ...        ...       ...         ...   \n",
       "1030 2019-08-01    1.2859     1.2874     1.2884    1.2802  22192000.0   \n",
       "1031 2019-07-01    1.2899     1.2902     1.2970    1.2873  20468000.0   \n",
       "1032 2019-04-01    1.2858     1.2989     1.3000    1.2781  31606000.0   \n",
       "1033 2019-03-01    1.2948     1.2904     1.2969    1.2864  24454000.0   \n",
       "1034 2019-02-01    1.2841     1.2850     1.2910    1.2806  23533000.0   \n",
       "\n",
       "      Perubahan%  day  week  month  year    Gain    Loss  \n",
       "0            NaN   30    52     12  2022  0.0000  0.0000  \n",
       "1        -0.0002   29    52     12  2022  0.0000 -0.0002  \n",
       "2        -0.0102   28    52     12  2022  0.0000 -0.0102  \n",
       "3         0.0073   27    52     12  2022  0.0073  0.0000  \n",
       "5        -0.0189   23    51     12  2022  0.0000 -0.0189  \n",
       "...          ...  ...   ...    ...   ...     ...     ...  \n",
       "1030     -0.0061    1    31      8  2019  0.0000 -0.0061  \n",
       "1031      0.0040    1    27      7  2019  0.0040  0.0000  \n",
       "1032     -0.0041    1    14      4  2019  0.0000 -0.0041  \n",
       "1033      0.0090    1     9      3  2019  0.0090  0.0000  \n",
       "1034     -0.0107    1     5      2  2019  0.0000 -0.0107  \n",
       "\n",
       "[1033 rows x 13 columns]"
      ]
     },
     "execution_count": 33,
     "metadata": {},
     "output_type": "execute_result"
    }
   ],
   "source": [
    "# Menghitung perubahan harga positif dan negatif secara terpisah\n",
    "df['Gain'] = df['Perubahan%'].where(df['Perubahan%'] > 0, 0)\n",
    "df['Loss'] = df['Perubahan%'].where(df['Perubahan%'] < 0, 0)\n",
    "df"
   ]
  },
  {
   "cell_type": "markdown",
   "id": "f0bef2c4",
   "metadata": {},
   "source": [
    "## Lanjutkan untuk semua Kolom dan beri keterangan untuk setiap grafik"
   ]
  },
  {
   "cell_type": "code",
   "execution_count": 34,
   "id": "dbfcd72b",
   "metadata": {},
   "outputs": [
    {
     "name": "stdout",
     "output_type": "stream",
     "text": [
      "0            NaN\n",
      "1            NaN\n",
      "2            NaN\n",
      "3            NaN\n",
      "5            NaN\n",
      "          ...   \n",
      "1030    0.001764\n",
      "1031    0.002050\n",
      "1032    0.002050\n",
      "1033    0.002393\n",
      "1034    0.002264\n",
      "Name: Gain, Length: 1033, dtype: float64\n"
     ]
    },
    {
     "data": {
      "text/plain": [
       "0            NaN\n",
       "1            NaN\n",
       "2            NaN\n",
       "3            NaN\n",
       "5            NaN\n",
       "          ...   \n",
       "1030   -0.002993\n",
       "1031   -0.002636\n",
       "1032   -0.001621\n",
       "1033   -0.001621\n",
       "1034   -0.002386\n",
       "Name: Loss, Length: 1033, dtype: float64"
      ]
     },
     "execution_count": 34,
     "metadata": {},
     "output_type": "execute_result"
    }
   ],
   "source": [
    "# Menghitung rata-rata gain dan loss dengan jangka waktu 14 hari\n",
    "avg_gain = df['Gain'].rolling(window=14).mean()\n",
    "avg_loss = df['Loss'].rolling(window=14).mean()\n",
    "print(avg_gain)\n",
    "avg_loss"
   ]
  },
  {
   "cell_type": "code",
   "execution_count": 35,
   "id": "247d40ba",
   "metadata": {},
   "outputs": [
    {
     "data": {
      "text/html": [
       "<div>\n",
       "<style scoped>\n",
       "    .dataframe tbody tr th:only-of-type {\n",
       "        vertical-align: middle;\n",
       "    }\n",
       "\n",
       "    .dataframe tbody tr th {\n",
       "        vertical-align: top;\n",
       "    }\n",
       "\n",
       "    .dataframe thead th {\n",
       "        text-align: right;\n",
       "    }\n",
       "</style>\n",
       "<table border=\"1\" class=\"dataframe\">\n",
       "  <thead>\n",
       "    <tr style=\"text-align: right;\">\n",
       "      <th></th>\n",
       "      <th>Tanggal</th>\n",
       "      <th>Terakhir</th>\n",
       "      <th>Pembukaan</th>\n",
       "      <th>Tertinggi</th>\n",
       "      <th>Terendah</th>\n",
       "      <th>Vol.</th>\n",
       "      <th>Perubahan%</th>\n",
       "      <th>day</th>\n",
       "      <th>week</th>\n",
       "      <th>month</th>\n",
       "      <th>year</th>\n",
       "      <th>Gain</th>\n",
       "      <th>Loss</th>\n",
       "      <th>RSI</th>\n",
       "    </tr>\n",
       "  </thead>\n",
       "  <tbody>\n",
       "    <tr>\n",
       "      <th>0</th>\n",
       "      <td>2022-12-30</td>\n",
       "      <td>1.8262</td>\n",
       "      <td>1.8218</td>\n",
       "      <td>1.8324</td>\n",
       "      <td>1.8198</td>\n",
       "      <td>10750000.0</td>\n",
       "      <td>NaN</td>\n",
       "      <td>30</td>\n",
       "      <td>52</td>\n",
       "      <td>12</td>\n",
       "      <td>2022</td>\n",
       "      <td>0.0000</td>\n",
       "      <td>0.0000</td>\n",
       "      <td>NaN</td>\n",
       "    </tr>\n",
       "    <tr>\n",
       "      <th>1</th>\n",
       "      <td>2022-12-29</td>\n",
       "      <td>1.8260</td>\n",
       "      <td>1.8123</td>\n",
       "      <td>1.8273</td>\n",
       "      <td>1.8112</td>\n",
       "      <td>10599000.0</td>\n",
       "      <td>-0.0002</td>\n",
       "      <td>29</td>\n",
       "      <td>52</td>\n",
       "      <td>12</td>\n",
       "      <td>2022</td>\n",
       "      <td>0.0000</td>\n",
       "      <td>-0.0002</td>\n",
       "      <td>NaN</td>\n",
       "    </tr>\n",
       "    <tr>\n",
       "      <th>2</th>\n",
       "      <td>2022-12-28</td>\n",
       "      <td>1.8158</td>\n",
       "      <td>1.8224</td>\n",
       "      <td>1.8228</td>\n",
       "      <td>1.8042</td>\n",
       "      <td>11808000.0</td>\n",
       "      <td>-0.0102</td>\n",
       "      <td>28</td>\n",
       "      <td>52</td>\n",
       "      <td>12</td>\n",
       "      <td>2022</td>\n",
       "      <td>0.0000</td>\n",
       "      <td>-0.0102</td>\n",
       "      <td>NaN</td>\n",
       "    </tr>\n",
       "    <tr>\n",
       "      <th>3</th>\n",
       "      <td>2022-12-27</td>\n",
       "      <td>1.8231</td>\n",
       "      <td>1.8082</td>\n",
       "      <td>1.8419</td>\n",
       "      <td>1.8080</td>\n",
       "      <td>15962000.0</td>\n",
       "      <td>0.0073</td>\n",
       "      <td>27</td>\n",
       "      <td>52</td>\n",
       "      <td>12</td>\n",
       "      <td>2022</td>\n",
       "      <td>0.0073</td>\n",
       "      <td>0.0000</td>\n",
       "      <td>NaN</td>\n",
       "    </tr>\n",
       "    <tr>\n",
       "      <th>5</th>\n",
       "      <td>2022-12-23</td>\n",
       "      <td>1.8042</td>\n",
       "      <td>1.8010</td>\n",
       "      <td>1.8122</td>\n",
       "      <td>1.7989</td>\n",
       "      <td>10546000.0</td>\n",
       "      <td>-0.0189</td>\n",
       "      <td>23</td>\n",
       "      <td>51</td>\n",
       "      <td>12</td>\n",
       "      <td>2022</td>\n",
       "      <td>0.0000</td>\n",
       "      <td>-0.0189</td>\n",
       "      <td>NaN</td>\n",
       "    </tr>\n",
       "    <tr>\n",
       "      <th>...</th>\n",
       "      <td>...</td>\n",
       "      <td>...</td>\n",
       "      <td>...</td>\n",
       "      <td>...</td>\n",
       "      <td>...</td>\n",
       "      <td>...</td>\n",
       "      <td>...</td>\n",
       "      <td>...</td>\n",
       "      <td>...</td>\n",
       "      <td>...</td>\n",
       "      <td>...</td>\n",
       "      <td>...</td>\n",
       "      <td>...</td>\n",
       "      <td>...</td>\n",
       "    </tr>\n",
       "    <tr>\n",
       "      <th>1030</th>\n",
       "      <td>2019-08-01</td>\n",
       "      <td>1.2859</td>\n",
       "      <td>1.2874</td>\n",
       "      <td>1.2884</td>\n",
       "      <td>1.2802</td>\n",
       "      <td>22192000.0</td>\n",
       "      <td>-0.0061</td>\n",
       "      <td>1</td>\n",
       "      <td>31</td>\n",
       "      <td>8</td>\n",
       "      <td>2019</td>\n",
       "      <td>0.0000</td>\n",
       "      <td>-0.0061</td>\n",
       "      <td>-143.604651</td>\n",
       "    </tr>\n",
       "    <tr>\n",
       "      <th>1031</th>\n",
       "      <td>2019-07-01</td>\n",
       "      <td>1.2899</td>\n",
       "      <td>1.2902</td>\n",
       "      <td>1.2970</td>\n",
       "      <td>1.2873</td>\n",
       "      <td>20468000.0</td>\n",
       "      <td>0.0040</td>\n",
       "      <td>1</td>\n",
       "      <td>27</td>\n",
       "      <td>7</td>\n",
       "      <td>2019</td>\n",
       "      <td>0.0040</td>\n",
       "      <td>0.0000</td>\n",
       "      <td>-350.000000</td>\n",
       "    </tr>\n",
       "    <tr>\n",
       "      <th>1032</th>\n",
       "      <td>2019-04-01</td>\n",
       "      <td>1.2858</td>\n",
       "      <td>1.2989</td>\n",
       "      <td>1.3000</td>\n",
       "      <td>1.2781</td>\n",
       "      <td>31606000.0</td>\n",
       "      <td>-0.0041</td>\n",
       "      <td>1</td>\n",
       "      <td>14</td>\n",
       "      <td>4</td>\n",
       "      <td>2019</td>\n",
       "      <td>0.0000</td>\n",
       "      <td>-0.0041</td>\n",
       "      <td>478.333333</td>\n",
       "    </tr>\n",
       "    <tr>\n",
       "      <th>1033</th>\n",
       "      <td>2019-03-01</td>\n",
       "      <td>1.2948</td>\n",
       "      <td>1.2904</td>\n",
       "      <td>1.2969</td>\n",
       "      <td>1.2864</td>\n",
       "      <td>24454000.0</td>\n",
       "      <td>0.0090</td>\n",
       "      <td>1</td>\n",
       "      <td>9</td>\n",
       "      <td>3</td>\n",
       "      <td>2019</td>\n",
       "      <td>0.0090</td>\n",
       "      <td>0.0000</td>\n",
       "      <td>310.185185</td>\n",
       "    </tr>\n",
       "    <tr>\n",
       "      <th>1034</th>\n",
       "      <td>2019-02-01</td>\n",
       "      <td>1.2841</td>\n",
       "      <td>1.2850</td>\n",
       "      <td>1.2910</td>\n",
       "      <td>1.2806</td>\n",
       "      <td>23533000.0</td>\n",
       "      <td>-0.0107</td>\n",
       "      <td>1</td>\n",
       "      <td>5</td>\n",
       "      <td>2</td>\n",
       "      <td>2019</td>\n",
       "      <td>0.0000</td>\n",
       "      <td>-0.0107</td>\n",
       "      <td>-1864.705882</td>\n",
       "    </tr>\n",
       "  </tbody>\n",
       "</table>\n",
       "<p>1033 rows × 14 columns</p>\n",
       "</div>"
      ],
      "text/plain": [
       "        Tanggal  Terakhir  Pembukaan  Tertinggi  Terendah        Vol.  \\\n",
       "0    2022-12-30    1.8262     1.8218     1.8324    1.8198  10750000.0   \n",
       "1    2022-12-29    1.8260     1.8123     1.8273    1.8112  10599000.0   \n",
       "2    2022-12-28    1.8158     1.8224     1.8228    1.8042  11808000.0   \n",
       "3    2022-12-27    1.8231     1.8082     1.8419    1.8080  15962000.0   \n",
       "5    2022-12-23    1.8042     1.8010     1.8122    1.7989  10546000.0   \n",
       "...         ...       ...        ...        ...       ...         ...   \n",
       "1030 2019-08-01    1.2859     1.2874     1.2884    1.2802  22192000.0   \n",
       "1031 2019-07-01    1.2899     1.2902     1.2970    1.2873  20468000.0   \n",
       "1032 2019-04-01    1.2858     1.2989     1.3000    1.2781  31606000.0   \n",
       "1033 2019-03-01    1.2948     1.2904     1.2969    1.2864  24454000.0   \n",
       "1034 2019-02-01    1.2841     1.2850     1.2910    1.2806  23533000.0   \n",
       "\n",
       "      Perubahan%  day  week  month  year    Gain    Loss          RSI  \n",
       "0            NaN   30    52     12  2022  0.0000  0.0000          NaN  \n",
       "1        -0.0002   29    52     12  2022  0.0000 -0.0002          NaN  \n",
       "2        -0.0102   28    52     12  2022  0.0000 -0.0102          NaN  \n",
       "3         0.0073   27    52     12  2022  0.0073  0.0000          NaN  \n",
       "5        -0.0189   23    51     12  2022  0.0000 -0.0189          NaN  \n",
       "...          ...  ...   ...    ...   ...     ...     ...          ...  \n",
       "1030     -0.0061    1    31      8  2019  0.0000 -0.0061  -143.604651  \n",
       "1031      0.0040    1    27      7  2019  0.0040  0.0000  -350.000000  \n",
       "1032     -0.0041    1    14      4  2019  0.0000 -0.0041   478.333333  \n",
       "1033      0.0090    1     9      3  2019  0.0090  0.0000   310.185185  \n",
       "1034     -0.0107    1     5      2  2019  0.0000 -0.0107 -1864.705882  \n",
       "\n",
       "[1033 rows x 14 columns]"
      ]
     },
     "execution_count": 35,
     "metadata": {},
     "output_type": "execute_result"
    }
   ],
   "source": [
    "# Menghitung Relative Strength (RS) dan Relative Strength Index (RSI)\n",
    "rs = avg_gain / avg_loss\n",
    "df['RSI'] = 100 - (100 / (1 + rs))\n",
    "df"
   ]
  },
  {
   "cell_type": "markdown",
   "id": "020296d8",
   "metadata": {},
   "source": [
    "# MembangunModel Mesin Learning"
   ]
  },
  {
   "cell_type": "code",
   "execution_count": 36,
   "id": "4a9b31be",
   "metadata": {},
   "outputs": [
    {
     "data": {
      "text/html": [
       "<div>\n",
       "<style scoped>\n",
       "    .dataframe tbody tr th:only-of-type {\n",
       "        vertical-align: middle;\n",
       "    }\n",
       "\n",
       "    .dataframe tbody tr th {\n",
       "        vertical-align: top;\n",
       "    }\n",
       "\n",
       "    .dataframe thead th {\n",
       "        text-align: right;\n",
       "    }\n",
       "</style>\n",
       "<table border=\"1\" class=\"dataframe\">\n",
       "  <thead>\n",
       "    <tr style=\"text-align: right;\">\n",
       "      <th></th>\n",
       "      <th>Tanggal</th>\n",
       "      <th>Terakhir</th>\n",
       "      <th>Pembukaan</th>\n",
       "      <th>Tertinggi</th>\n",
       "      <th>Terendah</th>\n",
       "      <th>Vol.</th>\n",
       "      <th>Perubahan%</th>\n",
       "      <th>day</th>\n",
       "      <th>week</th>\n",
       "      <th>month</th>\n",
       "      <th>year</th>\n",
       "    </tr>\n",
       "  </thead>\n",
       "  <tbody>\n",
       "    <tr>\n",
       "      <th>0</th>\n",
       "      <td>2022-12-30</td>\n",
       "      <td>1.8262</td>\n",
       "      <td>1.8218</td>\n",
       "      <td>1.8324</td>\n",
       "      <td>1.8198</td>\n",
       "      <td>10750000.0</td>\n",
       "      <td>0.01</td>\n",
       "      <td>30</td>\n",
       "      <td>52</td>\n",
       "      <td>12</td>\n",
       "      <td>2022</td>\n",
       "    </tr>\n",
       "    <tr>\n",
       "      <th>1</th>\n",
       "      <td>2022-12-29</td>\n",
       "      <td>1.8260</td>\n",
       "      <td>1.8123</td>\n",
       "      <td>1.8273</td>\n",
       "      <td>1.8112</td>\n",
       "      <td>10599000.0</td>\n",
       "      <td>0.56</td>\n",
       "      <td>29</td>\n",
       "      <td>52</td>\n",
       "      <td>12</td>\n",
       "      <td>2022</td>\n",
       "    </tr>\n",
       "    <tr>\n",
       "      <th>2</th>\n",
       "      <td>2022-12-28</td>\n",
       "      <td>1.8158</td>\n",
       "      <td>1.8224</td>\n",
       "      <td>1.8228</td>\n",
       "      <td>1.8042</td>\n",
       "      <td>11808000.0</td>\n",
       "      <td>-0.40</td>\n",
       "      <td>28</td>\n",
       "      <td>52</td>\n",
       "      <td>12</td>\n",
       "      <td>2022</td>\n",
       "    </tr>\n",
       "    <tr>\n",
       "      <th>3</th>\n",
       "      <td>2022-12-27</td>\n",
       "      <td>1.8231</td>\n",
       "      <td>1.8082</td>\n",
       "      <td>1.8419</td>\n",
       "      <td>1.8080</td>\n",
       "      <td>15962000.0</td>\n",
       "      <td>0.74</td>\n",
       "      <td>27</td>\n",
       "      <td>52</td>\n",
       "      <td>12</td>\n",
       "      <td>2022</td>\n",
       "    </tr>\n",
       "    <tr>\n",
       "      <th>4</th>\n",
       "      <td>2022-12-23</td>\n",
       "      <td>1.8042</td>\n",
       "      <td>1.8010</td>\n",
       "      <td>1.8122</td>\n",
       "      <td>1.7989</td>\n",
       "      <td>10546000.0</td>\n",
       "      <td>0.50</td>\n",
       "      <td>23</td>\n",
       "      <td>51</td>\n",
       "      <td>12</td>\n",
       "      <td>2022</td>\n",
       "    </tr>\n",
       "    <tr>\n",
       "      <th>...</th>\n",
       "      <td>...</td>\n",
       "      <td>...</td>\n",
       "      <td>...</td>\n",
       "      <td>...</td>\n",
       "      <td>...</td>\n",
       "      <td>...</td>\n",
       "      <td>...</td>\n",
       "      <td>...</td>\n",
       "      <td>...</td>\n",
       "      <td>...</td>\n",
       "      <td>...</td>\n",
       "    </tr>\n",
       "    <tr>\n",
       "      <th>1028</th>\n",
       "      <td>2019-08-01</td>\n",
       "      <td>1.2859</td>\n",
       "      <td>1.2874</td>\n",
       "      <td>1.2884</td>\n",
       "      <td>1.2802</td>\n",
       "      <td>22192000.0</td>\n",
       "      <td>-0.31</td>\n",
       "      <td>1</td>\n",
       "      <td>31</td>\n",
       "      <td>8</td>\n",
       "      <td>2019</td>\n",
       "    </tr>\n",
       "    <tr>\n",
       "      <th>1029</th>\n",
       "      <td>2019-07-01</td>\n",
       "      <td>1.2899</td>\n",
       "      <td>1.2902</td>\n",
       "      <td>1.2970</td>\n",
       "      <td>1.2873</td>\n",
       "      <td>20468000.0</td>\n",
       "      <td>0.32</td>\n",
       "      <td>1</td>\n",
       "      <td>27</td>\n",
       "      <td>7</td>\n",
       "      <td>2019</td>\n",
       "    </tr>\n",
       "    <tr>\n",
       "      <th>1030</th>\n",
       "      <td>2019-04-01</td>\n",
       "      <td>1.2858</td>\n",
       "      <td>1.2989</td>\n",
       "      <td>1.3000</td>\n",
       "      <td>1.2781</td>\n",
       "      <td>31606000.0</td>\n",
       "      <td>-0.70</td>\n",
       "      <td>1</td>\n",
       "      <td>14</td>\n",
       "      <td>4</td>\n",
       "      <td>2019</td>\n",
       "    </tr>\n",
       "    <tr>\n",
       "      <th>1031</th>\n",
       "      <td>2019-03-01</td>\n",
       "      <td>1.2948</td>\n",
       "      <td>1.2904</td>\n",
       "      <td>1.2969</td>\n",
       "      <td>1.2864</td>\n",
       "      <td>24454000.0</td>\n",
       "      <td>0.83</td>\n",
       "      <td>1</td>\n",
       "      <td>9</td>\n",
       "      <td>3</td>\n",
       "      <td>2019</td>\n",
       "    </tr>\n",
       "    <tr>\n",
       "      <th>1032</th>\n",
       "      <td>2019-02-01</td>\n",
       "      <td>1.2841</td>\n",
       "      <td>1.2850</td>\n",
       "      <td>1.2910</td>\n",
       "      <td>1.2806</td>\n",
       "      <td>23533000.0</td>\n",
       "      <td>0.22</td>\n",
       "      <td>1</td>\n",
       "      <td>5</td>\n",
       "      <td>2</td>\n",
       "      <td>2019</td>\n",
       "    </tr>\n",
       "  </tbody>\n",
       "</table>\n",
       "<p>1033 rows × 11 columns</p>\n",
       "</div>"
      ],
      "text/plain": [
       "         Tanggal  Terakhir  Pembukaan  Tertinggi  Terendah        Vol.  \\\n",
       "0     2022-12-30    1.8262     1.8218     1.8324    1.8198  10750000.0   \n",
       "1     2022-12-29    1.8260     1.8123     1.8273    1.8112  10599000.0   \n",
       "2     2022-12-28    1.8158     1.8224     1.8228    1.8042  11808000.0   \n",
       "3     2022-12-27    1.8231     1.8082     1.8419    1.8080  15962000.0   \n",
       "4     2022-12-23    1.8042     1.8010     1.8122    1.7989  10546000.0   \n",
       "...          ...       ...        ...        ...       ...         ...   \n",
       "1028  2019-08-01    1.2859     1.2874     1.2884    1.2802  22192000.0   \n",
       "1029  2019-07-01    1.2899     1.2902     1.2970    1.2873  20468000.0   \n",
       "1030  2019-04-01    1.2858     1.2989     1.3000    1.2781  31606000.0   \n",
       "1031  2019-03-01    1.2948     1.2904     1.2969    1.2864  24454000.0   \n",
       "1032  2019-02-01    1.2841     1.2850     1.2910    1.2806  23533000.0   \n",
       "\n",
       "      Perubahan%  day  week  month  year  \n",
       "0           0.01   30    52     12  2022  \n",
       "1           0.56   29    52     12  2022  \n",
       "2          -0.40   28    52     12  2022  \n",
       "3           0.74   27    52     12  2022  \n",
       "4           0.50   23    51     12  2022  \n",
       "...          ...  ...   ...    ...   ...  \n",
       "1028       -0.31    1    31      8  2019  \n",
       "1029        0.32    1    27      7  2019  \n",
       "1030       -0.70    1    14      4  2019  \n",
       "1031        0.83    1     9      3  2019  \n",
       "1032        0.22    1     5      2  2019  \n",
       "\n",
       "[1033 rows x 11 columns]"
      ]
     },
     "execution_count": 36,
     "metadata": {},
     "output_type": "execute_result"
    }
   ],
   "source": [
    "#membaca data yang telah dibersihkan\n",
    "df=pd.read_csv('./dataset/clean_data.csv')\n",
    "df"
   ]
  },
  {
   "cell_type": "code",
   "execution_count": 37,
   "id": "a364cbdb",
   "metadata": {},
   "outputs": [
    {
     "data": {
      "text/plain": [
       "Tanggal       0\n",
       "Terakhir      0\n",
       "Pembukaan     0\n",
       "Tertinggi     0\n",
       "Terendah      0\n",
       "Vol.          0\n",
       "Perubahan%    0\n",
       "day           0\n",
       "week          0\n",
       "month         0\n",
       "year          0\n",
       "dtype: int64"
      ]
     },
     "execution_count": 37,
     "metadata": {},
     "output_type": "execute_result"
    }
   ],
   "source": [
    "df.isna().sum()"
   ]
  },
  {
   "cell_type": "code",
   "execution_count": 38,
   "id": "0053826d",
   "metadata": {},
   "outputs": [
    {
     "data": {
      "text/plain": [
       "Tanggal       0\n",
       "Terakhir      0\n",
       "Pembukaan     0\n",
       "Tertinggi     0\n",
       "Terendah      0\n",
       "Vol.          0\n",
       "Perubahan%    0\n",
       "day           0\n",
       "week          0\n",
       "month         0\n",
       "year          0\n",
       "dtype: int64"
      ]
     },
     "execution_count": 38,
     "metadata": {},
     "output_type": "execute_result"
    }
   ],
   "source": [
    "df['Perubahan%'].dropna()\n",
    "df.isna().sum()"
   ]
  },
  {
   "cell_type": "code",
   "execution_count": 39,
   "id": "0d2ede1a",
   "metadata": {},
   "outputs": [],
   "source": [
    "\n",
    "# menentukan atribut dan label\n",
    "X = df[['Pembukaan', 'Tertinggi', 'Terendah','Vol.','Perubahan%','day','week','month','year']]\n",
    "y = df['Terakhir']  # Kolom 'Price' menjadi label yang ingin diprediksi"
   ]
  },
  {
   "cell_type": "code",
   "execution_count": 41,
   "id": "afadc3cb",
   "metadata": {},
   "outputs": [],
   "source": [
    "X.to_csv('./dataset/datauji.csv',index=False)"
   ]
  },
  {
   "cell_type": "code",
   "execution_count": 40,
   "id": "3ac2df74",
   "metadata": {},
   "outputs": [],
   "source": [
    "#membagi data menjadi data training dan data testing\n",
    "X_train, X_test, y_train, y_test = train_test_split(X, y, test_size=0.2, random_state=15)"
   ]
  },
  {
   "cell_type": "code",
   "execution_count": 41,
   "id": "32515458",
   "metadata": {},
   "outputs": [
    {
     "data": {
      "text/html": [
       "<style>#sk-container-id-1 {color: black;background-color: white;}#sk-container-id-1 pre{padding: 0;}#sk-container-id-1 div.sk-toggleable {background-color: white;}#sk-container-id-1 label.sk-toggleable__label {cursor: pointer;display: block;width: 100%;margin-bottom: 0;padding: 0.3em;box-sizing: border-box;text-align: center;}#sk-container-id-1 label.sk-toggleable__label-arrow:before {content: \"▸\";float: left;margin-right: 0.25em;color: #696969;}#sk-container-id-1 label.sk-toggleable__label-arrow:hover:before {color: black;}#sk-container-id-1 div.sk-estimator:hover label.sk-toggleable__label-arrow:before {color: black;}#sk-container-id-1 div.sk-toggleable__content {max-height: 0;max-width: 0;overflow: hidden;text-align: left;background-color: #f0f8ff;}#sk-container-id-1 div.sk-toggleable__content pre {margin: 0.2em;color: black;border-radius: 0.25em;background-color: #f0f8ff;}#sk-container-id-1 input.sk-toggleable__control:checked~div.sk-toggleable__content {max-height: 200px;max-width: 100%;overflow: auto;}#sk-container-id-1 input.sk-toggleable__control:checked~label.sk-toggleable__label-arrow:before {content: \"▾\";}#sk-container-id-1 div.sk-estimator input.sk-toggleable__control:checked~label.sk-toggleable__label {background-color: #d4ebff;}#sk-container-id-1 div.sk-label input.sk-toggleable__control:checked~label.sk-toggleable__label {background-color: #d4ebff;}#sk-container-id-1 input.sk-hidden--visually {border: 0;clip: rect(1px 1px 1px 1px);clip: rect(1px, 1px, 1px, 1px);height: 1px;margin: -1px;overflow: hidden;padding: 0;position: absolute;width: 1px;}#sk-container-id-1 div.sk-estimator {font-family: monospace;background-color: #f0f8ff;border: 1px dotted black;border-radius: 0.25em;box-sizing: border-box;margin-bottom: 0.5em;}#sk-container-id-1 div.sk-estimator:hover {background-color: #d4ebff;}#sk-container-id-1 div.sk-parallel-item::after {content: \"\";width: 100%;border-bottom: 1px solid gray;flex-grow: 1;}#sk-container-id-1 div.sk-label:hover label.sk-toggleable__label {background-color: #d4ebff;}#sk-container-id-1 div.sk-serial::before {content: \"\";position: absolute;border-left: 1px solid gray;box-sizing: border-box;top: 0;bottom: 0;left: 50%;z-index: 0;}#sk-container-id-1 div.sk-serial {display: flex;flex-direction: column;align-items: center;background-color: white;padding-right: 0.2em;padding-left: 0.2em;position: relative;}#sk-container-id-1 div.sk-item {position: relative;z-index: 1;}#sk-container-id-1 div.sk-parallel {display: flex;align-items: stretch;justify-content: center;background-color: white;position: relative;}#sk-container-id-1 div.sk-item::before, #sk-container-id-1 div.sk-parallel-item::before {content: \"\";position: absolute;border-left: 1px solid gray;box-sizing: border-box;top: 0;bottom: 0;left: 50%;z-index: -1;}#sk-container-id-1 div.sk-parallel-item {display: flex;flex-direction: column;z-index: 1;position: relative;background-color: white;}#sk-container-id-1 div.sk-parallel-item:first-child::after {align-self: flex-end;width: 50%;}#sk-container-id-1 div.sk-parallel-item:last-child::after {align-self: flex-start;width: 50%;}#sk-container-id-1 div.sk-parallel-item:only-child::after {width: 0;}#sk-container-id-1 div.sk-dashed-wrapped {border: 1px dashed gray;margin: 0 0.4em 0.5em 0.4em;box-sizing: border-box;padding-bottom: 0.4em;background-color: white;}#sk-container-id-1 div.sk-label label {font-family: monospace;font-weight: bold;display: inline-block;line-height: 1.2em;}#sk-container-id-1 div.sk-label-container {text-align: center;}#sk-container-id-1 div.sk-container {/* jupyter's `normalize.less` sets `[hidden] { display: none; }` but bootstrap.min.css set `[hidden] { display: none !important; }` so we also need the `!important` here to be able to override the default hidden behavior on the sphinx rendered scikit-learn.org. See: https://github.com/scikit-learn/scikit-learn/issues/21755 */display: inline-block !important;position: relative;}#sk-container-id-1 div.sk-text-repr-fallback {display: none;}</style><div id=\"sk-container-id-1\" class=\"sk-top-container\"><div class=\"sk-text-repr-fallback\"><pre>LinearRegression()</pre><b>In a Jupyter environment, please rerun this cell to show the HTML representation or trust the notebook. <br />On GitHub, the HTML representation is unable to render, please try loading this page with nbviewer.org.</b></div><div class=\"sk-container\" hidden><div class=\"sk-item\"><div class=\"sk-estimator sk-toggleable\"><input class=\"sk-toggleable__control sk-hidden--visually\" id=\"sk-estimator-id-1\" type=\"checkbox\" checked><label for=\"sk-estimator-id-1\" class=\"sk-toggleable__label sk-toggleable__label-arrow\">LinearRegression</label><div class=\"sk-toggleable__content\"><pre>LinearRegression()</pre></div></div></div></div></div>"
      ],
      "text/plain": [
       "LinearRegression()"
      ]
     },
     "execution_count": 41,
     "metadata": {},
     "output_type": "execute_result"
    }
   ],
   "source": [
    "# membangun model mesin learning\n",
    "regression = LinearRegression()\n",
    "#melakukan pembelajaran/training\n",
    "regression.fit(X_train, y_train)"
   ]
  },
  {
   "cell_type": "code",
   "execution_count": 42,
   "id": "fdcd5776",
   "metadata": {},
   "outputs": [],
   "source": [
    "# melakukan pengujian\n",
    "y_pred = regression.predict(X_test)"
   ]
  },
  {
   "cell_type": "code",
   "execution_count": 43,
   "id": "5f4e0473",
   "metadata": {},
   "outputs": [
    {
     "name": "stdout",
     "output_type": "stream",
     "text": [
      "Mean Squared Error: 1.6839869006072088e-05\n"
     ]
    }
   ],
   "source": [
    "# mengecek nilai rata-rata error\n",
    "mse = mean_squared_error(y_test, y_pred)\n",
    "print('Mean Squared Error:', mse)"
   ]
  },
  {
   "cell_type": "code",
   "execution_count": 44,
   "id": "d065cc3a",
   "metadata": {},
   "outputs": [
    {
     "name": "stdout",
     "output_type": "stream",
     "text": [
      "R-squared: 0.9996146008078632\n"
     ]
    }
   ],
   "source": [
    "# mengecek nilai R2 score\n",
    "r_squared = regression.score(X_test, y_test)\n",
    "print('R-squared:', r_squared)"
   ]
  },
  {
   "cell_type": "code",
   "execution_count": 45,
   "id": "a72080ea",
   "metadata": {},
   "outputs": [
    {
     "name": "stdout",
     "output_type": "stream",
     "text": [
      "Accuracy: 99.96146008078632 %\n"
     ]
    }
   ],
   "source": [
    "# mengukur tingkat akurasi\n",
    "accuracy = regression.score(X_test, y_test) * 100\n",
    "print('Accuracy:', accuracy, '%')"
   ]
  },
  {
   "cell_type": "markdown",
   "id": "3e6a33ae",
   "metadata": {},
   "source": [
    "# Visualisasi Data hasil prediksi Vs Data Aktual"
   ]
  },
  {
   "cell_type": "code",
   "execution_count": 46,
   "id": "9ad39927",
   "metadata": {},
   "outputs": [
    {
     "data": {
      "image/png": "[encoded data removed]",
      "text/plain": [
       "<Figure size 640x480 with 1 Axes>"
      ]
     },
     "metadata": {},
     "output_type": "display_data"
    }
   ],
   "source": [
    "# Visualisasi hasil prediksi dengan data aktual\n",
    "plt.scatter(y_test, y_pred)\n",
    "plt.plot([min(y_test), max(y_test)], [min(y_test), max(y_test)], 'r--')\n",
    "plt.xlabel('Actual Price')\n",
    "plt.ylabel('Predicted Price')\n",
    "plt.title('Actual vs Predicted Price')\n",
    "plt.show()"
   ]
  },
  {
   "cell_type": "markdown",
   "id": "1cf7032a",
   "metadata": {},
   "source": [
    "- model yang dibangun mampu memprediksi harga saham dengan akurat. Semakin dekat titik-titik dengan garis diagonal, semakin baik performa model dalam memprediksi harga saham. Jika terdapat sebaran yang signifikan atau pola yang tidak teratur pada grafik, hal ini menunjukkan adanya ketidakakuratan dalam model yang perlu diperbaiki atau ditingkatkan."
   ]
  },
  {
   "cell_type": "code",
   "execution_count": 47,
   "id": "ce10903c",
   "metadata": {},
   "outputs": [
    {
     "data": {
      "image/png": "[encoded data removed]",
      "text/plain": [
       "<Figure size 640x480 with 1 Axes>"
      ]
     },
     "metadata": {},
     "output_type": "display_data"
    }
   ],
   "source": [
    "# Grafik residual\n",
    "residuals = y_test - y_pred\n",
    "plt.scatter(y_test, residuals)\n",
    "plt.axhline(0, color='r', linestyle='--')\n",
    "plt.xlabel('Nilai Sebenarnya')\n",
    "plt.ylabel('Residuals')\n",
    "plt.title('Grafik Residual')\n",
    "plt.show()"
   ]
  },
  {
   "cell_type": "markdown",
   "id": "f75f7bbe",
   "metadata": {},
   "source": [
    "- Garis horizontal pada nilai residual nol menunjukkan titik di mana prediksi benar-benar akurat, yaitu saat nilai prediksi sama dengan nilai aktual. Jika titik-titik pada grafik tersebar secara acak di sekitar garis horizontal, itu menunjukkan bahwa model memberikan prediksi yang akurat. Namun, jika terdapat pola atau kecenderungan tertentu pada titik-titik residual, itu menunjukkan adanya bias atau kesalahan sistematis dalam model.\n",
    "- Dengan melihat grafik residual, kita dapat mengidentifikasi pola atau kecenderungan kesalahan dalam prediksi model. Jika terdapat pola tertentu, seperti residual yang cenderung meningkat atau menurun seiring dengan nilai prediksi, itu menunjukkan bahwa model mungkin memiliki bias atau kesalahan sistematis yang perlu diperbaiki. Jika titik-titik residual tersebar secara acak di sekitar nilai nol, itu menunjukkan bahwa model memberikan prediksi yang akurat secara keseluruhan.\n",
    "- Grafik residual penting dalam mengevaluasi kualitas dan kecocokan model. Jika terdapat pola atau kecenderungan dalam residual, kita perlu melakukan penyesuaian atau perbaikan pada model untuk meningkatkan kualitas prediksinya."
   ]
  },
  {
   "cell_type": "code",
   "execution_count": 48,
   "id": "d465247c",
   "metadata": {},
   "outputs": [
    {
     "data": {
      "image/png": "[encoded data removed]",
      "text/plain": [
       "<Figure size 640x480 with 1 Axes>"
      ]
     },
     "metadata": {},
     "output_type": "display_data"
    }
   ],
   "source": [
    "# Grafik kurva regresi\n",
    "plt.scatter(y_test, y_pred)\n",
    "plt.plot(y_test, y_pred, 'r-')\n",
    "plt.xlabel('Nilai Sebenarnya')\n",
    "plt.ylabel('Nilai Prediksi')\n",
    "plt.title('Grafik Kurva Regresi')\n",
    "plt.show()"
   ]
  },
  {
   "cell_type": "markdown",
   "id": "ed0d8574",
   "metadata": {},
   "source": [
    "- Kurva regresi dapat digunakan untuk memperkirakan nilai variabel dependen berdasarkan nilai variabel independen yang diberikan. Dengan melihat letak titik data terhadap kurva regresi, kita dapat memperoleh pemahaman tentang pola hubungan antara variabel input dan output. Misalnya, jika titik data berada di atas kurva regresi, itu menunjukkan nilai prediksi yang lebih tinggi dibandingkan dengan nilai aktual, dan sebaliknya.\n",
    "\n",
    "- Kurva regresi memberikan gambaran visual tentang hubungan antara variabel input dan output dalam model regresi. Ini membantu kita memahami pola hubungan, mengevaluasi kualitas model, dan menggunakan kurva regresi untuk memperkirakan nilai variabel dependen berdasarkan variabel independen yang diberikan."
   ]
  },
  {
   "cell_type": "markdown",
   "id": "be5cbcd2",
   "metadata": {},
   "source": [
    "# Menyimpan Model Mesin Learning"
   ]
  },
  {
   "cell_type": "code",
   "execution_count": 49,
   "id": "e2e650f6",
   "metadata": {},
   "outputs": [
    {
     "data": {
      "text/plain": [
       "['Linier_regresi_model.joblib']"
      ]
     },
     "execution_count": 49,
     "metadata": {},
     "output_type": "execute_result"
    }
   ],
   "source": [
    "import joblib\n",
    "\n",
    "# Menyimpan model dtree ke dalam file 'dtree_model.joblib'\n",
    "joblib.dump(regression, 'Linier_regresi_model.joblib')"
   ]
  },
  {
   "cell_type": "markdown",
   "id": "792ef58b",
   "metadata": {},
   "source": [
    "# metode Decision Tree"
   ]
  },
  {
   "cell_type": "code",
   "execution_count": 50,
   "id": "3b440318",
   "metadata": {},
   "outputs": [],
   "source": [
    "from sklearn.tree import DecisionTreeRegressor\n",
    "from sklearn.metrics import r2_score, mean_absolute_error"
   ]
  },
  {
   "cell_type": "code",
   "execution_count": 51,
   "id": "570019a0",
   "metadata": {},
   "outputs": [
    {
     "data": {
      "text/html": [
       "<style>#sk-container-id-2 {color: black;background-color: white;}#sk-container-id-2 pre{padding: 0;}#sk-container-id-2 div.sk-toggleable {background-color: white;}#sk-container-id-2 label.sk-toggleable__label {cursor: pointer;display: block;width: 100%;margin-bottom: 0;padding: 0.3em;box-sizing: border-box;text-align: center;}#sk-container-id-2 label.sk-toggleable__label-arrow:before {content: \"▸\";float: left;margin-right: 0.25em;color: #696969;}#sk-container-id-2 label.sk-toggleable__label-arrow:hover:before {color: black;}#sk-container-id-2 div.sk-estimator:hover label.sk-toggleable__label-arrow:before {color: black;}#sk-container-id-2 div.sk-toggleable__content {max-height: 0;max-width: 0;overflow: hidden;text-align: left;background-color: #f0f8ff;}#sk-container-id-2 div.sk-toggleable__content pre {margin: 0.2em;color: black;border-radius: 0.25em;background-color: #f0f8ff;}#sk-container-id-2 input.sk-toggleable__control:checked~div.sk-toggleable__content {max-height: 200px;max-width: 100%;overflow: auto;}#sk-container-id-2 input.sk-toggleable__control:checked~label.sk-toggleable__label-arrow:before {content: \"▾\";}#sk-container-id-2 div.sk-estimator input.sk-toggleable__control:checked~label.sk-toggleable__label {background-color: #d4ebff;}#sk-container-id-2 div.sk-label input.sk-toggleable__control:checked~label.sk-toggleable__label {background-color: #d4ebff;}#sk-container-id-2 input.sk-hidden--visually {border: 0;clip: rect(1px 1px 1px 1px);clip: rect(1px, 1px, 1px, 1px);height: 1px;margin: -1px;overflow: hidden;padding: 0;position: absolute;width: 1px;}#sk-container-id-2 div.sk-estimator {font-family: monospace;background-color: #f0f8ff;border: 1px dotted black;border-radius: 0.25em;box-sizing: border-box;margin-bottom: 0.5em;}#sk-container-id-2 div.sk-estimator:hover {background-color: #d4ebff;}#sk-container-id-2 div.sk-parallel-item::after {content: \"\";width: 100%;border-bottom: 1px solid gray;flex-grow: 1;}#sk-container-id-2 div.sk-label:hover label.sk-toggleable__label {background-color: #d4ebff;}#sk-container-id-2 div.sk-serial::before {content: \"\";position: absolute;border-left: 1px solid gray;box-sizing: border-box;top: 0;bottom: 0;left: 50%;z-index: 0;}#sk-container-id-2 div.sk-serial {display: flex;flex-direction: column;align-items: center;background-color: white;padding-right: 0.2em;padding-left: 0.2em;position: relative;}#sk-container-id-2 div.sk-item {position: relative;z-index: 1;}#sk-container-id-2 div.sk-parallel {display: flex;align-items: stretch;justify-content: center;background-color: white;position: relative;}#sk-container-id-2 div.sk-item::before, #sk-container-id-2 div.sk-parallel-item::before {content: \"\";position: absolute;border-left: 1px solid gray;box-sizing: border-box;top: 0;bottom: 0;left: 50%;z-index: -1;}#sk-container-id-2 div.sk-parallel-item {display: flex;flex-direction: column;z-index: 1;position: relative;background-color: white;}#sk-container-id-2 div.sk-parallel-item:first-child::after {align-self: flex-end;width: 50%;}#sk-container-id-2 div.sk-parallel-item:last-child::after {align-self: flex-start;width: 50%;}#sk-container-id-2 div.sk-parallel-item:only-child::after {width: 0;}#sk-container-id-2 div.sk-dashed-wrapped {border: 1px dashed gray;margin: 0 0.4em 0.5em 0.4em;box-sizing: border-box;padding-bottom: 0.4em;background-color: white;}#sk-container-id-2 div.sk-label label {font-family: monospace;font-weight: bold;display: inline-block;line-height: 1.2em;}#sk-container-id-2 div.sk-label-container {text-align: center;}#sk-container-id-2 div.sk-container {/* jupyter's `normalize.less` sets `[hidden] { display: none; }` but bootstrap.min.css set `[hidden] { display: none !important; }` so we also need the `!important` here to be able to override the default hidden behavior on the sphinx rendered scikit-learn.org. See: https://github.com/scikit-learn/scikit-learn/issues/21755 */display: inline-block !important;position: relative;}#sk-container-id-2 div.sk-text-repr-fallback {display: none;}</style><div id=\"sk-container-id-2\" class=\"sk-top-container\"><div class=\"sk-text-repr-fallback\"><pre>DecisionTreeRegressor()</pre><b>In a Jupyter environment, please rerun this cell to show the HTML representation or trust the notebook. <br />On GitHub, the HTML representation is unable to render, please try loading this page with nbviewer.org.</b></div><div class=\"sk-container\" hidden><div class=\"sk-item\"><div class=\"sk-estimator sk-toggleable\"><input class=\"sk-toggleable__control sk-hidden--visually\" id=\"sk-estimator-id-2\" type=\"checkbox\" checked><label for=\"sk-estimator-id-2\" class=\"sk-toggleable__label sk-toggleable__label-arrow\">DecisionTreeRegressor</label><div class=\"sk-toggleable__content\"><pre>DecisionTreeRegressor()</pre></div></div></div></div></div>"
      ],
      "text/plain": [
       "DecisionTreeRegressor()"
      ]
     },
     "execution_count": 51,
     "metadata": {},
     "output_type": "execute_result"
    }
   ],
   "source": [
    "model = DecisionTreeRegressor()\n",
    "model.fit(X_train, y_train)"
   ]
  },
  {
   "cell_type": "code",
   "execution_count": 52,
   "id": "6fb263bc",
   "metadata": {},
   "outputs": [],
   "source": [
    "y_pred = model.predict(X_test)"
   ]
  },
  {
   "cell_type": "code",
   "execution_count": 53,
   "id": "aadff662",
   "metadata": {},
   "outputs": [
    {
     "name": "stdout",
     "output_type": "stream",
     "text": [
      "Mean Squared Error: 8.927487922705324e-05\n"
     ]
    }
   ],
   "source": [
    "mse = mean_squared_error(y_test, y_pred)\n",
    "print(\"Mean Squared Error:\", mse)"
   ]
  },
  {
   "cell_type": "code",
   "execution_count": 54,
   "id": "24bf308a",
   "metadata": {},
   "outputs": [
    {
     "name": "stdout",
     "output_type": "stream",
     "text": [
      "R-squared: 0.9979568447759415\n"
     ]
    }
   ],
   "source": [
    "r2 = r2_score(y_test, y_pred)\n",
    "print(\"R-squared:\", r2)"
   ]
  },
  {
   "cell_type": "code",
   "execution_count": 55,
   "id": "90da57f9",
   "metadata": {},
   "outputs": [
    {
     "name": "stdout",
     "output_type": "stream",
     "text": [
      "Mean Absolute Error: 0.0062879227053140125\n"
     ]
    }
   ],
   "source": [
    "r2 = r2_score(y_test, y_pred)\n",
    "print(\"R-squared:\", r2)\n",
    "mse = mean_squared_error(y_test, y_pred)\n",
    "print(\"Mean Squared Error:\", mse)\n",
    "# Menghitung Mean Absolute Error (MAE)\n",
    "mae = mean_absolute_error(y_test, y_pred)\n",
    "print('Mean Absolute Error:', mae)"
   ]
  },
  {
   "cell_type": "code",
   "execution_count": 56,
   "id": "463e8a5f",
   "metadata": {},
   "outputs": [
    {
     "name": "stdout",
     "output_type": "stream",
     "text": [
      "RMSE: 0.009448538470422463\n"
     ]
    }
   ],
   "source": [
    "# Menghitung Root Mean Squared Error (RMSE)\n",
    "rmse = mean_squared_error(y_test, y_pred, squared=False)\n",
    "print('RMSE:', rmse)"
   ]
  },
  {
   "cell_type": "markdown",
   "id": "d64b47f1",
   "metadata": {},
   "source": [
    "- RMSE (Root Mean Squared Error) adalah metrik yang digunakan untuk mengukur sejauh mana perbedaan antara nilai aktual dan nilai prediksi pada skala yang sama. Semakin rendah nilai RMSE, semakin baik performa model dalam melakukan prediksi.\n",
    "\n",
    "- Dalam kasus ini, nilai RMSE sebesar 57.343 menunjukkan bahwa rata-rata selisih antara nilai aktual dan nilai prediksi sekitar 57.343. Dalam konteks harga saham, ini berarti rata-rata kesalahan prediksi sekitar 57.343 unit mata uang (misalnya, rupiah) dalam setiap prediksi."
   ]
  },
  {
   "cell_type": "code",
   "execution_count": 57,
   "id": "9c02621e",
   "metadata": {},
   "outputs": [
    {
     "data": {
      "image/png": "[encoded data removed]",
      "text/plain": [
       "<Figure size 640x480 with 1 Axes>"
      ]
     },
     "metadata": {},
     "output_type": "display_data"
    }
   ],
   "source": [
    "# Visualisasi hasil prediksi dengan data aktual\n",
    "plt.scatter(y_test, y_pred)\n",
    "plt.plot([min(y_test), max(y_test)], [min(y_test), max(y_test)], 'r--')\n",
    "plt.xlabel('Actual Price')\n",
    "plt.ylabel('Predicted Price')\n",
    "plt.title('Actual vs Predicted Price')\n",
    "plt.show()"
   ]
  },
  {
   "cell_type": "markdown",
   "id": "4370f52d",
   "metadata": {},
   "source": [
    "# Menyimpan Model Mesin Learning"
   ]
  },
  {
   "cell_type": "code",
   "execution_count": 58,
   "id": "88af7e80",
   "metadata": {},
   "outputs": [
    {
     "data": {
      "text/plain": [
       "['dtree_model.joblib']"
      ]
     },
     "execution_count": 58,
     "metadata": {},
     "output_type": "execute_result"
    }
   ],
   "source": [
    "import joblib\n",
    "\n",
    "# Menyimpan model dtree ke dalam file 'dtree_model.joblib'\n",
    "joblib.dump(model, 'dtree_model.joblib')"
   ]
  },
  {
   "cell_type": "markdown",
   "id": "254dcf14",
   "metadata": {},
   "source": [
    "# Pengujian Model\n",
    "## Evaluasi dan Validasi Hasil"
   ]
  },
  {
   "cell_type": "code",
   "execution_count": 59,
   "id": "dcdf26b2",
   "metadata": {},
   "outputs": [
    {
     "data": {
      "text/html": [
       "<div>\n",
       "<style scoped>\n",
       "    .dataframe tbody tr th:only-of-type {\n",
       "        vertical-align: middle;\n",
       "    }\n",
       "\n",
       "    .dataframe tbody tr th {\n",
       "        vertical-align: top;\n",
       "    }\n",
       "\n",
       "    .dataframe thead th {\n",
       "        text-align: right;\n",
       "    }\n",
       "</style>\n",
       "<table border=\"1\" class=\"dataframe\">\n",
       "  <thead>\n",
       "    <tr style=\"text-align: right;\">\n",
       "      <th></th>\n",
       "      <th>Tanggal</th>\n",
       "      <th>Terakhir</th>\n",
       "      <th>Pembukaan</th>\n",
       "      <th>Tertinggi</th>\n",
       "      <th>Terendah</th>\n",
       "      <th>Vol.</th>\n",
       "      <th>Perubahan%</th>\n",
       "    </tr>\n",
       "  </thead>\n",
       "  <tbody>\n",
       "    <tr>\n",
       "      <th>0</th>\n",
       "      <td>23/06/2023</td>\n",
       "      <td>1.929,60</td>\n",
       "      <td>1.923,50</td>\n",
       "      <td>1.949,00</td>\n",
       "      <td>1.919,50</td>\n",
       "      <td>NaN</td>\n",
       "      <td>0,31%</td>\n",
       "    </tr>\n",
       "    <tr>\n",
       "      <th>1</th>\n",
       "      <td>22/06/2023</td>\n",
       "      <td>1.923,70</td>\n",
       "      <td>1.943,30</td>\n",
       "      <td>1.945,10</td>\n",
       "      <td>1.922,00</td>\n",
       "      <td>171,78K</td>\n",
       "      <td>-1,09%</td>\n",
       "    </tr>\n",
       "    <tr>\n",
       "      <th>2</th>\n",
       "      <td>21/06/2023</td>\n",
       "      <td>1.944,90</td>\n",
       "      <td>1.948,00</td>\n",
       "      <td>1.950,40</td>\n",
       "      <td>1.929,30</td>\n",
       "      <td>182,02K</td>\n",
       "      <td>-0,14%</td>\n",
       "    </tr>\n",
       "    <tr>\n",
       "      <th>3</th>\n",
       "      <td>20/06/2023</td>\n",
       "      <td>1.947,70</td>\n",
       "      <td>1.970,70</td>\n",
       "      <td>1.971,80</td>\n",
       "      <td>1.940,80</td>\n",
       "      <td>250,14K</td>\n",
       "      <td>-0,83%</td>\n",
       "    </tr>\n",
       "    <tr>\n",
       "      <th>4</th>\n",
       "      <td>19/06/2023</td>\n",
       "      <td>1.964,05</td>\n",
       "      <td>1.969,55</td>\n",
       "      <td>1.970,85</td>\n",
       "      <td>1.959,90</td>\n",
       "      <td>NaN</td>\n",
       "      <td>-0,27%</td>\n",
       "    </tr>\n",
       "    <tr>\n",
       "      <th>...</th>\n",
       "      <td>...</td>\n",
       "      <td>...</td>\n",
       "      <td>...</td>\n",
       "      <td>...</td>\n",
       "      <td>...</td>\n",
       "      <td>...</td>\n",
       "      <td>...</td>\n",
       "    </tr>\n",
       "    <tr>\n",
       "      <th>123</th>\n",
       "      <td>06/01/2023</td>\n",
       "      <td>1.869,70</td>\n",
       "      <td>1.835,90</td>\n",
       "      <td>1.875,20</td>\n",
       "      <td>1.835,20</td>\n",
       "      <td>215,37K</td>\n",
       "      <td>1,58%</td>\n",
       "    </tr>\n",
       "    <tr>\n",
       "      <th>124</th>\n",
       "      <td>05/01/2023</td>\n",
       "      <td>1.840,60</td>\n",
       "      <td>1.861,20</td>\n",
       "      <td>1.864,30</td>\n",
       "      <td>1.829,90</td>\n",
       "      <td>188,60K</td>\n",
       "      <td>-0,99%</td>\n",
       "    </tr>\n",
       "    <tr>\n",
       "      <th>125</th>\n",
       "      <td>04/01/2023</td>\n",
       "      <td>1.859,00</td>\n",
       "      <td>1.845,20</td>\n",
       "      <td>1.871,30</td>\n",
       "      <td>1.842,00</td>\n",
       "      <td>198,35K</td>\n",
       "      <td>0,70%</td>\n",
       "    </tr>\n",
       "    <tr>\n",
       "      <th>126</th>\n",
       "      <td>03/01/2023</td>\n",
       "      <td>1.846,10</td>\n",
       "      <td>1.831,80</td>\n",
       "      <td>1.856,60</td>\n",
       "      <td>1.831,30</td>\n",
       "      <td>212,27K</td>\n",
       "      <td>0,56%</td>\n",
       "    </tr>\n",
       "    <tr>\n",
       "      <th>127</th>\n",
       "      <td>02/01/2023</td>\n",
       "      <td>1.835,80</td>\n",
       "      <td>1.834,55</td>\n",
       "      <td>1.837,90</td>\n",
       "      <td>1.831,40</td>\n",
       "      <td>NaN</td>\n",
       "      <td>0,53%</td>\n",
       "    </tr>\n",
       "  </tbody>\n",
       "</table>\n",
       "<p>128 rows × 7 columns</p>\n",
       "</div>"
      ],
      "text/plain": [
       "        Tanggal  Terakhir Pembukaan Tertinggi  Terendah     Vol. Perubahan%\n",
       "0    23/06/2023  1.929,60  1.923,50  1.949,00  1.919,50      NaN      0,31%\n",
       "1    22/06/2023  1.923,70  1.943,30  1.945,10  1.922,00  171,78K     -1,09%\n",
       "2    21/06/2023  1.944,90  1.948,00  1.950,40  1.929,30  182,02K     -0,14%\n",
       "3    20/06/2023  1.947,70  1.970,70  1.971,80  1.940,80  250,14K     -0,83%\n",
       "4    19/06/2023  1.964,05  1.969,55  1.970,85  1.959,90      NaN     -0,27%\n",
       "..          ...       ...       ...       ...       ...      ...        ...\n",
       "123  06/01/2023  1.869,70  1.835,90  1.875,20  1.835,20  215,37K      1,58%\n",
       "124  05/01/2023  1.840,60  1.861,20  1.864,30  1.829,90  188,60K     -0,99%\n",
       "125  04/01/2023  1.859,00  1.845,20  1.871,30  1.842,00  198,35K      0,70%\n",
       "126  03/01/2023  1.846,10  1.831,80  1.856,60  1.831,30  212,27K      0,56%\n",
       "127  02/01/2023  1.835,80  1.834,55  1.837,90  1.831,40      NaN      0,53%\n",
       "\n",
       "[128 rows x 7 columns]"
      ]
     },
     "execution_count": 59,
     "metadata": {},
     "output_type": "execute_result"
    }
   ],
   "source": [
    "# Load Data Uji\n",
    "df_uji=pd.read_csv('./dataset/Data_uji.csv')\n",
    "df_uji"
   ]
  },
  {
   "cell_type": "code",
   "execution_count": 60,
   "id": "45137ab9",
   "metadata": {},
   "outputs": [
    {
     "data": {
      "text/html": [
       "<div>\n",
       "<style scoped>\n",
       "    .dataframe tbody tr th:only-of-type {\n",
       "        vertical-align: middle;\n",
       "    }\n",
       "\n",
       "    .dataframe tbody tr th {\n",
       "        vertical-align: top;\n",
       "    }\n",
       "\n",
       "    .dataframe thead th {\n",
       "        text-align: right;\n",
       "    }\n",
       "</style>\n",
       "<table border=\"1\" class=\"dataframe\">\n",
       "  <thead>\n",
       "    <tr style=\"text-align: right;\">\n",
       "      <th></th>\n",
       "      <th>Tanggal</th>\n",
       "      <th>Terakhir</th>\n",
       "      <th>Pembukaan</th>\n",
       "      <th>Tertinggi</th>\n",
       "      <th>Terendah</th>\n",
       "      <th>Vol.</th>\n",
       "      <th>Perubahan%</th>\n",
       "    </tr>\n",
       "  </thead>\n",
       "  <tbody>\n",
       "    <tr>\n",
       "      <th>0</th>\n",
       "      <td>2023-06-23</td>\n",
       "      <td>1.92960</td>\n",
       "      <td>1.92350</td>\n",
       "      <td>1.94900</td>\n",
       "      <td>1.9195</td>\n",
       "      <td>NaN</td>\n",
       "      <td>0.31</td>\n",
       "    </tr>\n",
       "    <tr>\n",
       "      <th>1</th>\n",
       "      <td>2023-06-22</td>\n",
       "      <td>1.92370</td>\n",
       "      <td>1.94330</td>\n",
       "      <td>1.94510</td>\n",
       "      <td>1.9220</td>\n",
       "      <td>17178000.0</td>\n",
       "      <td>-1.09</td>\n",
       "    </tr>\n",
       "    <tr>\n",
       "      <th>2</th>\n",
       "      <td>2023-06-21</td>\n",
       "      <td>1.94490</td>\n",
       "      <td>1.94800</td>\n",
       "      <td>1.95040</td>\n",
       "      <td>1.9293</td>\n",
       "      <td>18202000.0</td>\n",
       "      <td>-0.14</td>\n",
       "    </tr>\n",
       "    <tr>\n",
       "      <th>3</th>\n",
       "      <td>2023-06-20</td>\n",
       "      <td>1.94770</td>\n",
       "      <td>1.97070</td>\n",
       "      <td>1.97180</td>\n",
       "      <td>1.9408</td>\n",
       "      <td>25014000.0</td>\n",
       "      <td>-0.83</td>\n",
       "    </tr>\n",
       "    <tr>\n",
       "      <th>4</th>\n",
       "      <td>2023-06-19</td>\n",
       "      <td>1.96405</td>\n",
       "      <td>1.96955</td>\n",
       "      <td>1.97085</td>\n",
       "      <td>1.9599</td>\n",
       "      <td>NaN</td>\n",
       "      <td>-0.27</td>\n",
       "    </tr>\n",
       "    <tr>\n",
       "      <th>...</th>\n",
       "      <td>...</td>\n",
       "      <td>...</td>\n",
       "      <td>...</td>\n",
       "      <td>...</td>\n",
       "      <td>...</td>\n",
       "      <td>...</td>\n",
       "      <td>...</td>\n",
       "    </tr>\n",
       "    <tr>\n",
       "      <th>123</th>\n",
       "      <td>2023-06-01</td>\n",
       "      <td>1.86970</td>\n",
       "      <td>1.83590</td>\n",
       "      <td>1.87520</td>\n",
       "      <td>1.8352</td>\n",
       "      <td>21537000.0</td>\n",
       "      <td>1.58</td>\n",
       "    </tr>\n",
       "    <tr>\n",
       "      <th>124</th>\n",
       "      <td>2023-05-01</td>\n",
       "      <td>1.84060</td>\n",
       "      <td>1.86120</td>\n",
       "      <td>1.86430</td>\n",
       "      <td>1.8299</td>\n",
       "      <td>18860000.0</td>\n",
       "      <td>-0.99</td>\n",
       "    </tr>\n",
       "    <tr>\n",
       "      <th>125</th>\n",
       "      <td>2023-04-01</td>\n",
       "      <td>1.85900</td>\n",
       "      <td>1.84520</td>\n",
       "      <td>1.87130</td>\n",
       "      <td>1.8420</td>\n",
       "      <td>19835000.0</td>\n",
       "      <td>0.70</td>\n",
       "    </tr>\n",
       "    <tr>\n",
       "      <th>126</th>\n",
       "      <td>2023-03-01</td>\n",
       "      <td>1.84610</td>\n",
       "      <td>1.83180</td>\n",
       "      <td>1.85660</td>\n",
       "      <td>1.8313</td>\n",
       "      <td>21227000.0</td>\n",
       "      <td>0.56</td>\n",
       "    </tr>\n",
       "    <tr>\n",
       "      <th>127</th>\n",
       "      <td>2023-02-01</td>\n",
       "      <td>1.83580</td>\n",
       "      <td>1.83455</td>\n",
       "      <td>1.83790</td>\n",
       "      <td>1.8314</td>\n",
       "      <td>NaN</td>\n",
       "      <td>0.53</td>\n",
       "    </tr>\n",
       "  </tbody>\n",
       "</table>\n",
       "<p>128 rows × 7 columns</p>\n",
       "</div>"
      ],
      "text/plain": [
       "       Tanggal  Terakhir  Pembukaan  Tertinggi  Terendah        Vol.  \\\n",
       "0   2023-06-23   1.92960    1.92350    1.94900    1.9195         NaN   \n",
       "1   2023-06-22   1.92370    1.94330    1.94510    1.9220  17178000.0   \n",
       "2   2023-06-21   1.94490    1.94800    1.95040    1.9293  18202000.0   \n",
       "3   2023-06-20   1.94770    1.97070    1.97180    1.9408  25014000.0   \n",
       "4   2023-06-19   1.96405    1.96955    1.97085    1.9599         NaN   \n",
       "..         ...       ...        ...        ...       ...         ...   \n",
       "123 2023-06-01   1.86970    1.83590    1.87520    1.8352  21537000.0   \n",
       "124 2023-05-01   1.84060    1.86120    1.86430    1.8299  18860000.0   \n",
       "125 2023-04-01   1.85900    1.84520    1.87130    1.8420  19835000.0   \n",
       "126 2023-03-01   1.84610    1.83180    1.85660    1.8313  21227000.0   \n",
       "127 2023-02-01   1.83580    1.83455    1.83790    1.8314         NaN   \n",
       "\n",
       "     Perubahan%  \n",
       "0          0.31  \n",
       "1         -1.09  \n",
       "2         -0.14  \n",
       "3         -0.83  \n",
       "4         -0.27  \n",
       "..          ...  \n",
       "123        1.58  \n",
       "124       -0.99  \n",
       "125        0.70  \n",
       "126        0.56  \n",
       "127        0.53  \n",
       "\n",
       "[128 rows x 7 columns]"
      ]
     },
     "execution_count": 60,
     "metadata": {},
     "output_type": "execute_result"
    }
   ],
   "source": [
    "df_uji['Tanggal'] = pd.to_datetime(df_uji['Tanggal'])\n",
    "columns_harga = ['Terakhir', 'Pembukaan', 'Tertinggi', 'Terendah']\n",
    "df_uji[columns_harga] = df_uji[columns_harga].replace(',', '', regex=True).astype(float)\n",
    "df_uji['Vol.'] = df_uji['Vol.'].str.replace(r'\\.\\d+', '', regex=True).str.replace(',', '').str.replace('K', '000').astype(float)\n",
    "df_uji['Perubahan%'] = df_uji['Perubahan%'].str.replace('%', '', regex=True).str.replace(',', '.').astype(float)\n",
    "df_uji"
   ]
  },
  {
   "cell_type": "code",
   "execution_count": 61,
   "id": "bb432bc2",
   "metadata": {},
   "outputs": [],
   "source": [
    "df_uji=df_uji.dropna()"
   ]
  },
  {
   "cell_type": "code",
   "execution_count": 62,
   "id": "16025480",
   "metadata": {},
   "outputs": [
    {
     "data": {
      "text/plain": [
       "Tanggal       0\n",
       "Terakhir      0\n",
       "Pembukaan     0\n",
       "Tertinggi     0\n",
       "Terendah      0\n",
       "Vol.          0\n",
       "Perubahan%    0\n",
       "dtype: int64"
      ]
     },
     "execution_count": 62,
     "metadata": {},
     "output_type": "execute_result"
    }
   ],
   "source": [
    "df_uji.isna().sum()"
   ]
  },
  {
   "cell_type": "code",
   "execution_count": 63,
   "id": "8da7a878",
   "metadata": {},
   "outputs": [
    {
     "data": {
      "text/html": [
       "<div>\n",
       "<style scoped>\n",
       "    .dataframe tbody tr th:only-of-type {\n",
       "        vertical-align: middle;\n",
       "    }\n",
       "\n",
       "    .dataframe tbody tr th {\n",
       "        vertical-align: top;\n",
       "    }\n",
       "\n",
       "    .dataframe thead th {\n",
       "        text-align: right;\n",
       "    }\n",
       "</style>\n",
       "<table border=\"1\" class=\"dataframe\">\n",
       "  <thead>\n",
       "    <tr style=\"text-align: right;\">\n",
       "      <th></th>\n",
       "      <th>Tanggal</th>\n",
       "      <th>Terakhir</th>\n",
       "      <th>Pembukaan</th>\n",
       "      <th>Tertinggi</th>\n",
       "      <th>Terendah</th>\n",
       "      <th>Vol.</th>\n",
       "      <th>Perubahan%</th>\n",
       "      <th>day</th>\n",
       "      <th>week</th>\n",
       "      <th>month</th>\n",
       "      <th>year</th>\n",
       "    </tr>\n",
       "  </thead>\n",
       "  <tbody>\n",
       "    <tr>\n",
       "      <th>1</th>\n",
       "      <td>2023-06-22</td>\n",
       "      <td>1.9237</td>\n",
       "      <td>1.9433</td>\n",
       "      <td>1.9451</td>\n",
       "      <td>1.9220</td>\n",
       "      <td>17178000.0</td>\n",
       "      <td>-1.09</td>\n",
       "      <td>22</td>\n",
       "      <td>25</td>\n",
       "      <td>6</td>\n",
       "      <td>2023</td>\n",
       "    </tr>\n",
       "    <tr>\n",
       "      <th>2</th>\n",
       "      <td>2023-06-21</td>\n",
       "      <td>1.9449</td>\n",
       "      <td>1.9480</td>\n",
       "      <td>1.9504</td>\n",
       "      <td>1.9293</td>\n",
       "      <td>18202000.0</td>\n",
       "      <td>-0.14</td>\n",
       "      <td>21</td>\n",
       "      <td>25</td>\n",
       "      <td>6</td>\n",
       "      <td>2023</td>\n",
       "    </tr>\n",
       "    <tr>\n",
       "      <th>3</th>\n",
       "      <td>2023-06-20</td>\n",
       "      <td>1.9477</td>\n",
       "      <td>1.9707</td>\n",
       "      <td>1.9718</td>\n",
       "      <td>1.9408</td>\n",
       "      <td>25014000.0</td>\n",
       "      <td>-0.83</td>\n",
       "      <td>20</td>\n",
       "      <td>25</td>\n",
       "      <td>6</td>\n",
       "      <td>2023</td>\n",
       "    </tr>\n",
       "    <tr>\n",
       "      <th>6</th>\n",
       "      <td>2023-06-16</td>\n",
       "      <td>1.9712</td>\n",
       "      <td>1.9703</td>\n",
       "      <td>1.9804</td>\n",
       "      <td>1.9654</td>\n",
       "      <td>16051000.0</td>\n",
       "      <td>0.03</td>\n",
       "      <td>16</td>\n",
       "      <td>24</td>\n",
       "      <td>6</td>\n",
       "      <td>2023</td>\n",
       "    </tr>\n",
       "    <tr>\n",
       "      <th>7</th>\n",
       "      <td>2023-06-15</td>\n",
       "      <td>1.9707</td>\n",
       "      <td>1.9557</td>\n",
       "      <td>1.9728</td>\n",
       "      <td>1.9361</td>\n",
       "      <td>26635000.0</td>\n",
       "      <td>0.09</td>\n",
       "      <td>15</td>\n",
       "      <td>24</td>\n",
       "      <td>6</td>\n",
       "      <td>2023</td>\n",
       "    </tr>\n",
       "    <tr>\n",
       "      <th>...</th>\n",
       "      <td>...</td>\n",
       "      <td>...</td>\n",
       "      <td>...</td>\n",
       "      <td>...</td>\n",
       "      <td>...</td>\n",
       "      <td>...</td>\n",
       "      <td>...</td>\n",
       "      <td>...</td>\n",
       "      <td>...</td>\n",
       "      <td>...</td>\n",
       "      <td>...</td>\n",
       "    </tr>\n",
       "    <tr>\n",
       "      <th>122</th>\n",
       "      <td>2023-09-01</td>\n",
       "      <td>1.8778</td>\n",
       "      <td>1.8728</td>\n",
       "      <td>1.8864</td>\n",
       "      <td>1.8693</td>\n",
       "      <td>20455000.0</td>\n",
       "      <td>0.43</td>\n",
       "      <td>1</td>\n",
       "      <td>35</td>\n",
       "      <td>9</td>\n",
       "      <td>2023</td>\n",
       "    </tr>\n",
       "    <tr>\n",
       "      <th>123</th>\n",
       "      <td>2023-06-01</td>\n",
       "      <td>1.8697</td>\n",
       "      <td>1.8359</td>\n",
       "      <td>1.8752</td>\n",
       "      <td>1.8352</td>\n",
       "      <td>21537000.0</td>\n",
       "      <td>1.58</td>\n",
       "      <td>1</td>\n",
       "      <td>22</td>\n",
       "      <td>6</td>\n",
       "      <td>2023</td>\n",
       "    </tr>\n",
       "    <tr>\n",
       "      <th>124</th>\n",
       "      <td>2023-05-01</td>\n",
       "      <td>1.8406</td>\n",
       "      <td>1.8612</td>\n",
       "      <td>1.8643</td>\n",
       "      <td>1.8299</td>\n",
       "      <td>18860000.0</td>\n",
       "      <td>-0.99</td>\n",
       "      <td>1</td>\n",
       "      <td>18</td>\n",
       "      <td>5</td>\n",
       "      <td>2023</td>\n",
       "    </tr>\n",
       "    <tr>\n",
       "      <th>125</th>\n",
       "      <td>2023-04-01</td>\n",
       "      <td>1.8590</td>\n",
       "      <td>1.8452</td>\n",
       "      <td>1.8713</td>\n",
       "      <td>1.8420</td>\n",
       "      <td>19835000.0</td>\n",
       "      <td>0.70</td>\n",
       "      <td>1</td>\n",
       "      <td>13</td>\n",
       "      <td>4</td>\n",
       "      <td>2023</td>\n",
       "    </tr>\n",
       "    <tr>\n",
       "      <th>126</th>\n",
       "      <td>2023-03-01</td>\n",
       "      <td>1.8461</td>\n",
       "      <td>1.8318</td>\n",
       "      <td>1.8566</td>\n",
       "      <td>1.8313</td>\n",
       "      <td>21227000.0</td>\n",
       "      <td>0.56</td>\n",
       "      <td>1</td>\n",
       "      <td>9</td>\n",
       "      <td>3</td>\n",
       "      <td>2023</td>\n",
       "    </tr>\n",
       "  </tbody>\n",
       "</table>\n",
       "<p>119 rows × 11 columns</p>\n",
       "</div>"
      ],
      "text/plain": [
       "       Tanggal  Terakhir  Pembukaan  Tertinggi  Terendah        Vol.  \\\n",
       "1   2023-06-22    1.9237     1.9433     1.9451    1.9220  17178000.0   \n",
       "2   2023-06-21    1.9449     1.9480     1.9504    1.9293  18202000.0   \n",
       "3   2023-06-20    1.9477     1.9707     1.9718    1.9408  25014000.0   \n",
       "6   2023-06-16    1.9712     1.9703     1.9804    1.9654  16051000.0   \n",
       "7   2023-06-15    1.9707     1.9557     1.9728    1.9361  26635000.0   \n",
       "..         ...       ...        ...        ...       ...         ...   \n",
       "122 2023-09-01    1.8778     1.8728     1.8864    1.8693  20455000.0   \n",
       "123 2023-06-01    1.8697     1.8359     1.8752    1.8352  21537000.0   \n",
       "124 2023-05-01    1.8406     1.8612     1.8643    1.8299  18860000.0   \n",
       "125 2023-04-01    1.8590     1.8452     1.8713    1.8420  19835000.0   \n",
       "126 2023-03-01    1.8461     1.8318     1.8566    1.8313  21227000.0   \n",
       "\n",
       "     Perubahan%  day  week  month  year  \n",
       "1         -1.09   22    25      6  2023  \n",
       "2         -0.14   21    25      6  2023  \n",
       "3         -0.83   20    25      6  2023  \n",
       "6          0.03   16    24      6  2023  \n",
       "7          0.09   15    24      6  2023  \n",
       "..          ...  ...   ...    ...   ...  \n",
       "122        0.43    1    35      9  2023  \n",
       "123        1.58    1    22      6  2023  \n",
       "124       -0.99    1    18      5  2023  \n",
       "125        0.70    1    13      4  2023  \n",
       "126        0.56    1     9      3  2023  \n",
       "\n",
       "[119 rows x 11 columns]"
      ]
     },
     "execution_count": 63,
     "metadata": {},
     "output_type": "execute_result"
    }
   ],
   "source": [
    "#membagi waktu menjadi har,minggu,bulan,tahun\n",
    "df_uji['day'] =df_uji['Tanggal'].dt.day\n",
    "df_uji['week'] =df_uji['Tanggal'].dt.week\n",
    "df_uji['month'] =df_uji['Tanggal'].dt.month \n",
    "df_uji['year'] =df_uji['Tanggal'].dt.year\n",
    "df_uji"
   ]
  },
  {
   "cell_type": "code",
   "execution_count": 64,
   "id": "a3df7405",
   "metadata": {},
   "outputs": [],
   "source": [
    "# menentukan atribut dan label\n",
    "X_uji = df_uji[['Pembukaan', 'Tertinggi', 'Terendah','Vol.','Perubahan%','day','week','month','year']]\n",
    "y_uji = df_uji['Terakhir']  # Kolom 'Price' menjadi label yang ingin diprediksi\n"
   ]
  },
  {
   "cell_type": "markdown",
   "id": "0f7bb122",
   "metadata": {},
   "source": [
    "# Pengujian Model Regresi Linier"
   ]
  },
  {
   "cell_type": "code",
   "execution_count": 65,
   "id": "60c348a3",
   "metadata": {},
   "outputs": [],
   "source": [
    "import joblib\n",
    "\n",
    "# Memuat kembali model dtree dari file 'dtree_model.joblib'\n",
    "modelLin = joblib.load('Linier_regresi_model.joblib')"
   ]
  },
  {
   "cell_type": "code",
   "execution_count": 66,
   "id": "8c352c4f",
   "metadata": {},
   "outputs": [],
   "source": [
    "y_pred1=modelLin.predict(X_uji)"
   ]
  },
  {
   "cell_type": "code",
   "execution_count": 67,
   "id": "328cb1f6",
   "metadata": {},
   "outputs": [
    {
     "data": {
      "text/plain": [
       "array([1.92593404, 1.94041283, 1.95181827, 1.97317767, 1.95505252,\n",
       "       1.96685308, 1.96466281, 1.97002117, 1.97965408, 1.97640299,\n",
       "       1.96268273, 1.9810755 , 1.96851367, 1.97336656, 1.99081248,\n",
       "       1.98341688, 1.97191865, 1.97338909, 1.94432788, 1.96920677,\n",
       "       1.9676996 , 1.97969011, 1.97657   , 1.94711742, 1.98132458,\n",
       "       1.99572864, 2.01540379, 2.0178177 , 2.02635026, 2.04001983,\n",
       "       2.03918895, 2.03315722, 2.0254577 , 2.0682335 , 2.0379025 ,\n",
       "       2.0176397 , 1.99784046, 1.99508194, 2.00302316, 1.99461533,\n",
       "       1.99438193, 1.98734277, 1.98003724, 2.00782861, 1.98837433,\n",
       "       2.00970766, 1.99333104, 2.0073115 , 2.04136962, 2.0160123 ,\n",
       "       2.00477813, 1.98652847, 2.0126374 , 2.02341911, 2.01493038,\n",
       "       1.97627671, 1.97296268, 1.9739314 , 1.96656564, 1.96272877,\n",
       "       1.97173494, 2.00521857, 2.02125705, 1.97510883, 1.96539996,\n",
       "       2.01221899, 1.98788853, 1.93718622, 1.94625918, 1.90972486,\n",
       "       1.9157811 , 1.86318814, 1.83316115, 1.82021775, 1.82330576,\n",
       "       1.8589646 , 1.85791788, 1.84000662, 1.84403533, 1.82941753,\n",
       "       1.826724  , 1.81440819, 1.81790859, 1.83107261, 1.84465631,\n",
       "       1.82835012, 1.83986549, 1.82731964, 1.85514272, 1.85145461,\n",
       "       1.85758134, 1.86738691, 1.87870805, 1.87485182, 1.87230614,\n",
       "       1.8681943 , 1.93266373, 1.93502294, 1.91909356, 1.92097548,\n",
       "       1.93343572, 1.9382091 , 1.94579483, 1.94163141, 1.93603919,\n",
       "       1.93357679, 1.92402922, 1.91315393, 1.91331971, 1.91568351,\n",
       "       1.91834741, 1.89631774, 1.88253459, 1.87812359, 1.88115504,\n",
       "       1.86426279, 1.84120072, 1.86039957, 1.84654106])"
      ]
     },
     "execution_count": 67,
     "metadata": {},
     "output_type": "execute_result"
    }
   ],
   "source": [
    "y_pred1"
   ]
  },
  {
   "cell_type": "code",
   "execution_count": 89,
   "id": "d14a638f",
   "metadata": {},
   "outputs": [
    {
     "name": "stdout",
     "output_type": "stream",
     "text": [
      "Mean Squared Error: 2.6509208481546588e-05\n",
      "Mean Absolute Error: 0.003928845573172951\n",
      "R-squared: 0.9936528891839345\n",
      "Accuracy: 99.36528891839345 %\n"
     ]
    }
   ],
   "source": [
    "# mengecek nilai rata-rata error\n",
    "mse = mean_squared_error(y_uji, y_pred1)\n",
    "print('Mean Squared Error:', mse)\n",
    "# Menghitung Mean Absolute Error (MAE)\n",
    "mae = mean_absolute_error(y_uji, y_pred1)\n",
    "print('Mean Absolute Error:', mae)\n",
    "# Menghitung nilai R-squared\n",
    "r_squared = r2_score(y_uji, y_pred1)\n",
    "print('R-squared:', r_squared)\n",
    "# Menghitung tingkat akurasi\n",
    "accuracy = r_squared * 100\n",
    "print('Accuracy:', accuracy, '%')"
   ]
  },
  {
   "cell_type": "code",
   "execution_count": 78,
   "id": "929825cc",
   "metadata": {},
   "outputs": [
    {
     "data": {
      "image/png": "[encoded data removed]",
      "text/plain": [
       "<Figure size 640x480 with 1 Axes>"
      ]
     },
     "metadata": {},
     "output_type": "display_data"
    }
   ],
   "source": [
    "# Visualisasi hasil prediksi dengan data aktual\n",
    "plt.scatter(y_uji, y_pred1)\n",
    "plt.plot([min(y_uji), max(y_uji)], [min(y_uji), max(y_uji)], 'r--')\n",
    "plt.xlabel('Harga Aktual')\n",
    "plt.ylabel('Harga Prediksi')\n",
    "plt.title('Harga Aktual vs Harga Prediksi')\n",
    "plt.show()"
   ]
  },
  {
   "cell_type": "markdown",
   "id": "44504e25",
   "metadata": {},
   "source": [
    "# Pengujian Model Dtree"
   ]
  },
  {
   "cell_type": "code",
   "execution_count": 70,
   "id": "6c6e88d0",
   "metadata": {},
   "outputs": [],
   "source": [
    "import joblib\n",
    "\n",
    "# Memuat kembali model dtree dari file 'dtree_model.joblib'\n",
    "modeldtree = joblib.load('dtree_model.joblib')"
   ]
  },
  {
   "cell_type": "code",
   "execution_count": 71,
   "id": "b7aa5364",
   "metadata": {},
   "outputs": [],
   "source": [
    "y_pred2=model.predict(X_uji)"
   ]
  },
  {
   "cell_type": "code",
   "execution_count": 72,
   "id": "de7f29e9",
   "metadata": {},
   "outputs": [
    {
     "data": {
      "text/plain": [
       "array([1.9215, 1.9215, 1.9498, 1.9749, 1.9482, 1.9517, 1.9668, 1.9749,\n",
       "       1.9749, 1.9643, 1.9662, 1.9749, 1.959 , 1.9789, 1.9749, 1.9786,\n",
       "       1.959 , 1.959 , 1.9542, 1.9749, 1.959 , 1.9749, 1.9749, 1.9542,\n",
       "       2.0131, 2.0131, 2.0493, 2.021 , 2.0397, 2.0397, 2.0397, 2.0397,\n",
       "       2.0493, 2.0694, 2.0493, 2.021 , 2.021 , 2.0131, 2.0131, 2.0131,\n",
       "       1.9864, 1.9749, 1.9959, 2.0131, 1.9959, 2.0131, 2.0131, 2.0131,\n",
       "       2.0493, 2.021 , 2.021 , 2.021 , 2.021 , 2.0493, 1.9882, 1.9608,\n",
       "       1.9749, 1.959 , 1.9749, 1.959 , 1.9749, 2.0131, 2.0131, 1.9608,\n",
       "       1.9608, 2.0131, 1.9987, 1.9378, 1.9438, 1.9076, 1.8757, 1.8553,\n",
       "       1.8337, 1.8187, 1.8334, 1.8573, 1.8715, 1.8351, 1.8514, 1.8337,\n",
       "       1.8165, 1.8141, 1.815 , 1.8321, 1.8463, 1.8337, 1.8351, 1.815 ,\n",
       "       1.8509, 1.8573, 1.8565, 1.868 , 1.8819, 1.8666, 1.8781, 1.8733,\n",
       "       1.9398, 1.9378, 1.9122, 1.9122, 1.9293, 1.9378, 1.9373, 1.9373,\n",
       "       1.9359, 1.934 , 1.939 , 1.9074, 1.9064, 1.9046, 1.9117, 1.8796,\n",
       "       1.8845, 1.868 , 1.8819, 1.8553, 1.8427, 1.8676, 1.8483])"
      ]
     },
     "execution_count": 72,
     "metadata": {},
     "output_type": "execute_result"
    }
   ],
   "source": [
    "y_pred2"
   ]
  },
  {
   "cell_type": "code",
   "execution_count": 88,
   "id": "ce843321",
   "metadata": {},
   "outputs": [
    {
     "name": "stdout",
     "output_type": "stream",
     "text": [
      "Mean Squared Error: 0.00017961268907563073\n",
      "Mean Absolute Error: 0.010278151260504206\n",
      "R-squared: 0.9569952591255924\n",
      "r2: 95.69952591255924 %\n"
     ]
    }
   ],
   "source": [
    "mse = mean_squared_error(y_uji, y_pred2)\n",
    "print(\"Mean Squared Error:\", mse)\n",
    "# Menghitung Mean Absolute Error (MAE)\n",
    "mae = mean_absolute_error(y_uji, y_pred2)\n",
    "print('Mean Absolute Error:', mae)\n",
    "r2 = r2_score(y_uji, y_pred2)\n",
    "print(\"R-squared:\", r2)\n",
    "r2 = r2 * 100\n",
    "print('r2:', r2, '%')"
   ]
  },
  {
   "cell_type": "code",
   "execution_count": 75,
   "id": "9931bda1",
   "metadata": {},
   "outputs": [
    {
     "data": {
      "image/png": "[encoded data removed]",
      "text/plain": [
       "<Figure size 640x480 with 1 Axes>"
      ]
     },
     "metadata": {},
     "output_type": "display_data"
    }
   ],
   "source": [
    "# Visualisasi hasil prediksi dengan data aktual\n",
    "plt.scatter(y_uji, y_pred2)\n",
    "plt.plot([min(y_uji), max(y_uji)], [min(y_uji), max(y_uji)], 'r--')\n",
    "plt.xlabel('Harga Aktual')\n",
    "plt.ylabel('Harga Prediksi')\n",
    "plt.title('Harga Aktual vs Harga Prediksi')\n",
    "plt.show()"
   ]
  },
  {
   "cell_type": "code",
   "execution_count": null,
   "id": "9cb693b5",
   "metadata": {},
   "outputs": [],
   "source": []
  }
 ],
 "metadata": {
  "kernelspec": {
   "display_name": "Python 3 (ipykernel)",
   "language": "python",
   "name": "python3"
  },
  "language_info": {
   "codemirror_mode": {
    "name": "ipython",
    "version": 3
   },
   "file_extension": ".py",
   "mimetype": "text/x-python",
   "name": "python",
   "nbconvert_exporter": "python",
   "pygments_lexer": "ipython3",
   "version": "3.9.16"
  }
 },
 "nbformat": 4,
 "nbformat_minor": 5
}
